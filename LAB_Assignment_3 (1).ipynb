{
  "cells": [
    {
      "cell_type": "markdown",
      "source": [
        "# **LAB ASSIGNMENT 3** \n",
        "Submission Date : 9.3.22  \n",
        "By : Amrutanshu Dash        \n",
        "Roll No : 1905735\n",
        "\n",
        "\n",
        "\n",
        "---"
      ],
      "metadata": {
        "id": "kYokmCIoq1Tu"
      }
    },
    {
      "cell_type": "markdown",
      "source": [
        "1) Write a Python function to find the greatest among three numbers."
      ],
      "metadata": {
        "id": "KEZKYxC3RnNf"
      }
    },
    {
      "cell_type": "code",
      "execution_count": null,
      "metadata": {
        "colab": {
          "base_uri": "https://localhost:8080/"
        },
        "id": "67B-HvDZhILN",
        "outputId": "e60bdd4a-fb80-438b-f4f7-b640593be67b"
      },
      "outputs": [
        {
          "name": "stdout",
          "output_type": "stream",
          "text": [
            "Enter first number: 2\n",
            "Enter second number: 7\n",
            "Enter third number: 1\n",
            "Largest =  7\n"
          ]
        }
      ],
      "source": [
        "def max(a, b, c):\n",
        "    if (a >= b) and (a >= c):\n",
        "        largest = a\n",
        "    elif (b >= a) and (b >= c):\n",
        "        largest = b\n",
        "    else:\n",
        "        largest = c\n",
        "    return largest\n",
        "x = int(input(\"Enter first number: \"))\n",
        "y = int(input(\"Enter second number: \"))\n",
        "z = int(input(\"Enter third number: \"))\n",
        "print(\"Largest = \",max(x, y, z))"
      ]
    },
    {
      "cell_type": "markdown",
      "source": [
        "2) Write a Python function to reverse a string"
      ],
      "metadata": {
        "id": "suaYXIvhRwzb"
      }
    },
    {
      "cell_type": "code",
      "execution_count": null,
      "metadata": {
        "colab": {
          "base_uri": "https://localhost:8080/"
        },
        "id": "cg_mTEodi0l8",
        "outputId": "1b1365c8-4bd2-4613-9351-9438e06f581f"
      },
      "outputs": [
        {
          "name": "stdout",
          "output_type": "stream",
          "text": [
            "Enter string: Hello\n",
            "Its reverse is:  olleH\n"
          ]
        }
      ],
      "source": [
        "def reverse(s):\n",
        "    if len(s) == 0:\n",
        "        return s\n",
        "    else:\n",
        "        return reverse(s[1:]) + s[0]\n",
        "string = input(\"Enter string: \")\n",
        "print(\"Its reverse is: \", reverse(string))"
      ]
    },
    {
      "cell_type": "markdown",
      "source": [
        "3) Write a Python function that takes a list and returns a new list with unique\n",
        "elements of the first list.\n",
        "Sample List : [1,2,3,3,3,3,4,5]\n",
        "Unique List : [1, 2, 3, 4, 5]"
      ],
      "metadata": {
        "id": "I2sdExguR6oy"
      }
    },
    {
      "cell_type": "code",
      "execution_count": null,
      "metadata": {
        "colab": {
          "base_uri": "https://localhost:8080/"
        },
        "id": "uzHMacZ3jp7H",
        "outputId": "264e1de9-875d-4714-ade8-9ba0042e1889"
      },
      "outputs": [
        {
          "name": "stdout",
          "output_type": "stream",
          "text": [
            "Enter elements of list: 1 2 3 3 3 3 3 4 5\n",
            "original list:  ['1', '2', '3', '3', '3', '3', '3', '4', '5']\n",
            "List with unique elements:  ['1', '2', '3', '4', '5']\n"
          ]
        }
      ],
      "source": [
        "def unique_list(l):\n",
        "    x = list()\n",
        "    for a in l:\n",
        "        if a not in x:\n",
        "            x.append(a)\n",
        "    return x\n",
        "l = list(input(\"Enter elements of list: \").split(\" \"))\n",
        "print(\"original list: \", l)\n",
        "print(\"List with unique elements: \", unique_list(l))"
      ]
    },
    {
      "cell_type": "markdown",
      "source": [
        "4) Write a Python function that checks whether a passed string is palindrome or not."
      ],
      "metadata": {
        "id": "2SiZJwF0SVMt"
      }
    },
    {
      "cell_type": "code",
      "execution_count": null,
      "metadata": {
        "colab": {
          "base_uri": "https://localhost:8080/"
        },
        "id": "R7g5FeqwlL6O",
        "outputId": "92e8e5b7-c50f-4b30-aa84-b841835e9805"
      },
      "outputs": [
        {
          "name": "stdout",
          "output_type": "stream",
          "text": [
            "Enter string: Malayalam\n",
            "Input is a palindrome.\n"
          ]
        }
      ],
      "source": [
        "def isPalindrome(s):\n",
        "    s = s.lower()\n",
        "    l = len(s)\n",
        "    if l < 2:\n",
        "        return True\n",
        "    elif s[0] == s[l - 1]:\n",
        "        return isPalindrome(s[1: l - 1])\n",
        "    else:\n",
        "        return False\n",
        "string = input(\"Enter string: \")\n",
        "if isPalindrome(string):\n",
        "    print(\"Input is a palindrome.\")\n",
        "else:\n",
        "    print(\"Input is not a palindrome.\")"
      ]
    },
    {
      "cell_type": "markdown",
      "source": [
        "5) Write a Python function to find out the factorial of a number using recursion."
      ],
      "metadata": {
        "id": "o_JnWXgcSci3"
      }
    },
    {
      "cell_type": "code",
      "execution_count": null,
      "metadata": {
        "colab": {
          "base_uri": "https://localhost:8080/"
        },
        "id": "fDgppVaJp5jX",
        "outputId": "180b1218-ad09-4c9b-e576-89d3a737cffb"
      },
      "outputs": [
        {
          "name": "stdout",
          "output_type": "stream",
          "text": [
            "Enter number: 4\n",
            "Its factorial is:  24\n"
          ]
        }
      ],
      "source": [
        "def factorial(n):  \n",
        "    if n == 1:  \n",
        "        return n\n",
        "    else:  \n",
        "        return n * factorial(n-1)\n",
        "num = int(input(\"Enter number: \"))\n",
        "print(\"Its factorial is: \", factorial(num))"
      ]
    },
    {
      "cell_type": "markdown",
      "source": [
        "6) Write a Python function to display the Fibonacci Series using recursion."
      ],
      "metadata": {
        "id": "rLyjjtc1Sjet"
      }
    },
    {
      "cell_type": "code",
      "execution_count": null,
      "metadata": {
        "colab": {
          "base_uri": "https://localhost:8080/"
        },
        "id": "sa68dmZwqdFI",
        "outputId": "798e6b3e-29a8-4de9-f24d-565bc02f8ce6"
      },
      "outputs": [
        {
          "name": "stdout",
          "output_type": "stream",
          "text": [
            "Enter number of terms: 4\n",
            "The fibonacci series is: \n",
            "0 1 1 2 "
          ]
        }
      ],
      "source": [
        "def fibonacci(n):\n",
        "    if n <= 1:\n",
        "        return n\n",
        "    else:\n",
        "        return(fibonacci(n-1) + fibonacci(n-2))\n",
        "num = int(input(\"Enter number of terms: \"))\n",
        "if num >= 1:\n",
        "    print(\"The fibonacci series is: \")\n",
        "    for i in range(num):\n",
        "        print(fibonacci(i), end=\" \")"
      ]
    },
    {
      "cell_type": "markdown",
      "source": [
        "7) Write a Python function to find out Sum of Digits using recursion."
      ],
      "metadata": {
        "id": "RxsyU_SlSosW"
      }
    },
    {
      "cell_type": "code",
      "execution_count": null,
      "metadata": {
        "colab": {
          "base_uri": "https://localhost:8080/"
        },
        "id": "ip5uhLvGwiU5",
        "outputId": "eb91e050-8953-4ac7-c69a-20112271a68c"
      },
      "outputs": [
        {
          "name": "stdout",
          "output_type": "stream",
          "text": [
            "Enter number: 154\n",
            "Sum of digits of input:  10\n"
          ]
        }
      ],
      "source": [
        "def getSum(no):\n",
        "    return 0 if no == 0 else int(no % 10) + getSum(int(no/10))\n",
        "num = int(input(\"Enter number: \"))\n",
        "print(\"Sum of digits of input: \", getSum(num))"
      ]
    },
    {
      "cell_type": "markdown",
      "source": [
        "8) Write a Python function to find out LCM and GCD using recursion."
      ],
      "metadata": {
        "id": "jpr2fP8bStam"
      }
    },
    {
      "cell_type": "code",
      "execution_count": null,
      "metadata": {
        "colab": {
          "base_uri": "https://localhost:8080/"
        },
        "id": "rRsfkQNI80jy",
        "outputId": "a012d911-0139-466a-d3fd-94205b914f50"
      },
      "outputs": [
        {
          "name": "stdout",
          "output_type": "stream",
          "text": [
            "Enter first number: 20\n",
            "Enter first number: 15\n",
            "GCD:  5 , LCM:  60.0\n"
          ]
        }
      ],
      "source": [
        "def gcd(a,b):\n",
        "    if a == 0:\n",
        "        return b\n",
        "    else:\n",
        "        return gcd(b%a,a)\n",
        "def lcm(a,b):\n",
        "    return (a / gcd(a,b))* b\n",
        "n1 = int(input(\"Enter first number: \"))\n",
        "n2 = int(input(\"Enter first number: \"))\n",
        "print(\"GCD: \", gcd(n1,n2), \", LCM: \", lcm(n1,n2))"
      ]
    },
    {
      "cell_type": "markdown",
      "source": [
        "9) Write a Python function to implement Binary Search without using recursion."
      ],
      "metadata": {
        "id": "mnkYsx39S8Qx"
      }
    },
    {
      "cell_type": "code",
      "execution_count": null,
      "metadata": {
        "id": "D_-uHOHs-jrt",
        "colab": {
          "base_uri": "https://localhost:8080/"
        },
        "outputId": "e15d08af-a339-4465-f5f8-e4f878677f26"
      },
      "outputs": [
        {
          "output_type": "stream",
          "name": "stdout",
          "text": [
            "Enter elements of list: 3 4 5 7 8 9\n",
            "Enter item to be searched: 7\n",
            "Element is present at index 3\n"
          ]
        }
      ],
      "source": [
        "def binarySearch(arr, x):\n",
        "      low = 0\n",
        "      high = len(arr) - 1\n",
        "      mid = 0\n",
        "      while low <= high:\n",
        "          mid = (high + low) // 2\n",
        "          if arr[mid] < x:\n",
        "              low = mid + 1\n",
        "          elif arr[mid] > x:\n",
        "              high = mid - 1\n",
        "          else:\n",
        "              return mid\n",
        "      return -1\n",
        "l = list(input(\"Enter elements of list: \").split(\" \"))\n",
        "#l.sort()\n",
        "x = input(\"Enter item to be searched: \")\n",
        "result = binarySearch(l, x)\n",
        "if result != -1:\n",
        "      print(\"Element is present at index \"+str(result))\n",
        "else:\n",
        "      print(\"Element is not present in array\")"
      ]
    },
    {
      "cell_type": "markdown",
      "source": [
        "10) Write a Python function to implement Binary Search using recursion."
      ],
      "metadata": {
        "id": "L8_lRIrlTExO"
      }
    },
    {
      "cell_type": "code",
      "execution_count": null,
      "metadata": {
        "colab": {
          "base_uri": "https://localhost:8080/"
        },
        "id": "6_C5pTp4_IwI",
        "outputId": "b66dedfb-0d40-452e-8280-4c7c351d0f91"
      },
      "outputs": [
        {
          "name": "stdout",
          "output_type": "stream",
          "text": [
            "Enter elements of list: p y t h o n\n",
            "Enter item to be searched: h\n",
            "Element is not present in array\n"
          ]
        }
      ],
      "source": [
        "def binarySearch(arr, start, end, x):\n",
        "      if end >= start:\n",
        "          mid = (end + start)//2\n",
        "          if arr[mid] == x:\n",
        "              return mid\n",
        "          elif arr[mid] > x:\n",
        "              return binarySearch(arr, start, mid-1, x)\n",
        "          else:\n",
        "              return binarySearch(arr, mid+1, end, x)\n",
        "      else:\n",
        "          return -1\n",
        "l = list(input(\"Enter elements of list: \").split(\" \"))\n",
        "#l.sort()\n",
        "x = input(\"Enter item to be searched: \")\n",
        "result = binarySearch(l, 0, len(l)-1, x)\n",
        "if (result != -1):\n",
        "      print(\"Element is present at index \"+format(result))\n",
        "else:\n",
        "      print(\"Element is not present in array\")"
      ]
    },
    {
      "cell_type": "markdown",
      "source": [
        "11). WAP to calculate the sum of digits of a given number."
      ],
      "metadata": {
        "id": "pWm80R_NTKDv"
      }
    },
    {
      "cell_type": "code",
      "execution_count": null,
      "metadata": {
        "colab": {
          "base_uri": "https://localhost:8080/"
        },
        "id": "CDlbW2I_7WA9",
        "outputId": "3251ad06-fca3-409b-9ddc-4c06958924ff"
      },
      "outputs": [
        {
          "name": "stdout",
          "output_type": "stream",
          "text": [
            "Enter number: 154\n",
            "Sum of digits of input:  10\n"
          ]
        }
      ],
      "source": [
        "def getSum(n):\n",
        "    sum = 0\n",
        "    while (n != 0):\n",
        "        sum = sum + int(n % 10)\n",
        "        n = int(n/10)\n",
        "    return sum\n",
        "num = int(input(\"Enter number: \"))\n",
        "print(\"Sum of digits of input: \", getSum(num))"
      ]
    },
    {
      "cell_type": "markdown",
      "source": [
        "12)WAP to check whether a number n is a prime number or not."
      ],
      "metadata": {
        "id": "QF9PG4rbTOQk"
      }
    },
    {
      "cell_type": "code",
      "execution_count": null,
      "metadata": {
        "colab": {
          "base_uri": "https://localhost:8080/"
        },
        "id": "07Z1bpCs6g45",
        "outputId": "e7ebc29e-f539-49a1-b5bb-ca3116944e5e"
      },
      "outputs": [
        {
          "name": "stdout",
          "output_type": "stream",
          "text": [
            "Enter number: 37\n",
            "37 is a prime number\n"
          ]
        }
      ],
      "source": [
        "def isPrime(n):\n",
        "    if num > 1:\n",
        "        for i in range(2, int(n / 2) + 1):\n",
        "            if n % i == 0:\n",
        "                print(n, \"is not a prime number\")\n",
        "                break\n",
        "        else:\n",
        "            print(n, \"is a prime number\")\n",
        "      \n",
        "    else:\n",
        "        print(n, \"is not a prime number\")\n",
        "num = int(input(\"Enter number: \"))\n",
        "isPrime(num)"
      ]
    },
    {
      "cell_type": "markdown",
      "source": [
        "13)Write a function to check if a given number is perfect or not."
      ],
      "metadata": {
        "id": "iaHvW5qdTTmd"
      }
    },
    {
      "cell_type": "code",
      "execution_count": null,
      "metadata": {
        "colab": {
          "base_uri": "https://localhost:8080/"
        },
        "id": "SSvpxbNV6Har",
        "outputId": "63541189-fe28-40f5-af67-5c4e3c0c70d4"
      },
      "outputs": [
        {
          "name": "stdout",
          "output_type": "stream",
          "text": [
            "Enter number: 6\n",
            "Input is a perfect number.\n"
          ]
        }
      ],
      "source": [
        "def isPerfect(n):\n",
        "    sum = 1\n",
        "    i = 2\n",
        "    while i * i <= n:\n",
        "        if n % i == 0:\n",
        "            sum = sum + i + n/i\n",
        "        i += 1\n",
        "    return (True if sum == n and n!=1 else False)\n",
        "num = int(input(\"Enter number: \"))\n",
        "if isPerfect(num):\n",
        "    print(\"Input is a perfect number.\")\n",
        "else:\n",
        "    print(\"Input is not a perfect number.\")"
      ]
    },
    {
      "cell_type": "markdown",
      "source": [
        "14). WAP to print all odd and even numbers separately within a given range. The range is input through user."
      ],
      "metadata": {
        "id": "E-5fW72OVIx2"
      }
    },
    {
      "cell_type": "code",
      "source": [
        "n = int(input(\"Enter n:\")) \n",
        "odd = [] \n",
        "even = [] \n",
        "for i in range(n): \n",
        "    if(i%2 == 0): \n",
        "        even.append(i) \n",
        "    else: \n",
        "        odd.append(i) \n",
        "\n",
        "print(\"Even numbers:\",*even) \n",
        "print(\"Odd numbers:\",*odd)"
      ],
      "metadata": {
        "colab": {
          "base_uri": "https://localhost:8080/"
        },
        "id": "paaHmK9EVLf3",
        "outputId": "b9224a6b-aec1-4554-b181-759837c3d39c"
      },
      "execution_count": null,
      "outputs": [
        {
          "output_type": "stream",
          "name": "stdout",
          "text": [
            "Enter n:10\n",
            "Even numbers: 0 2 4 6 8\n",
            "Odd numbers: 1 3 5 7 9\n"
          ]
        }
      ]
    },
    {
      "cell_type": "markdown",
      "source": [
        "13). WAP to evaluate the equation y=x n where n is a non-negative integer."
      ],
      "metadata": {
        "id": "o6l5YPwbar-p"
      }
    },
    {
      "cell_type": "code",
      "source": [
        "def power(x,n):\n",
        "    if n==0:\n",
        "        return 1\n",
        "    else:\n",
        "        return x*power(x,n-1)\n",
        "\n",
        "x=int(input(\"Enter the value of x: \"))\n",
        "n=int(input(\"Enter the value of n: \"))\n",
        "y=power(x,n)\n",
        "print(\"y={}\".format(y))"
      ],
      "metadata": {
        "colab": {
          "base_uri": "https://localhost:8080/"
        },
        "id": "Hxn2mxVxay6F",
        "outputId": "a412cef7-ab5c-40da-9343-eb6ebcbe10fa"
      },
      "execution_count": null,
      "outputs": [
        {
          "output_type": "stream",
          "name": "stdout",
          "text": [
            "Enter the value of x: 2\n",
            "Enter the value of n: 3\n",
            "y=8\n"
          ]
        }
      ]
    },
    {
      "cell_type": "markdown",
      "source": [
        "14). WAP to print the series as 1 2 7 15 31 ..........n, where n is given by the user."
      ],
      "metadata": {
        "id": "WLB2gew_VthP"
      }
    },
    {
      "cell_type": "code",
      "execution_count": null,
      "metadata": {
        "colab": {
          "base_uri": "https://localhost:8080/"
        },
        "id": "PSaC-02847xJ",
        "outputId": "62e3736f-33f2-4321-8929-6f66ce26e89e"
      },
      "outputs": [
        {
          "output_type": "stream",
          "name": "stdout",
          "text": [
            "Enter number of terms: 5\n",
            "Series: \n",
            "1 3 7 15 31 "
          ]
        }
      ],
      "source": [
        "def series(n):\n",
        "    for i in range(1,n+1):\n",
        "        print(2**i-1,end=\" \")\n",
        "\n",
        "num=int(input(\"Enter number of terms: \"))\n",
        "print(\"Series: \")\n",
        "series(num)"
      ]
    },
    {
      "cell_type": "markdown",
      "source": [
        "15). WAP to print the series as 3 5 7 11 13 17..........n, where n is given by the user."
      ],
      "metadata": {
        "id": "ctY4PgJPWxLk"
      }
    },
    {
      "cell_type": "code",
      "execution_count": null,
      "metadata": {
        "colab": {
          "base_uri": "https://localhost:8080/"
        },
        "id": "0QsWM-or3y-o",
        "outputId": "7fad0da6-13a4-40c2-92a0-f419c6f0c41f"
      },
      "outputs": [
        {
          "name": "stdout",
          "output_type": "stream",
          "text": [
            "Enter series limit: 100\n",
            "3 5 7 11 13 17 19 23 29 31 37 41 43 47 53 59 61 67 71 73 79 83 89 97 "
          ]
        }
      ],
      "source": [
        "def pattern(n):\n",
        "      for i in range(3,n+1):\n",
        "          fact = 0\n",
        "          for j in range(1,n+1):\n",
        "              if i % j == 0:\n",
        "                  fact+=1\n",
        "          if fact == 2:\n",
        "              print(i, end = \" \")\n",
        "num = int(input(\"Enter series limit: \"))\n",
        "pattern(num)"
      ]
    },
    {
      "cell_type": "markdown",
      "source": [
        "16). WAP to sum the following series S=1+(1+2)+(1+2+3)+...+(1+2+3+...+n)"
      ],
      "metadata": {
        "id": "FNC-okGKW3g_"
      }
    },
    {
      "cell_type": "code",
      "execution_count": null,
      "metadata": {
        "colab": {
          "base_uri": "https://localhost:8080/"
        },
        "id": "n-sPqq1y3a86",
        "outputId": "e4bdd856-3660-495a-9279-bb7229fac0cb"
      },
      "outputs": [
        {
          "name": "stdout",
          "output_type": "stream",
          "text": [
            "Enter sum limit: 10\n",
            "Sum:  220\n"
          ]
        }
      ],
      "source": [
        "def pattern(n):\n",
        "      sum1 = 0\n",
        "      for i in range(1,n+1):\n",
        "          sum = 0\n",
        "          for j in range(1,i+1):\n",
        "              sum += j\n",
        "          sum1 += sum\n",
        "      return sum1\n",
        "num = int(input(\"Enter sum limit: \"))\n",
        "print(\"Sum: \", pattern(num))"
      ]
    },
    {
      "cell_type": "markdown",
      "source": [
        "17). WAP to print the following pattern for n rows. Ex. for n=5 rows"
      ],
      "metadata": {
        "id": "Mddv_trzW_94"
      }
    },
    {
      "cell_type": "code",
      "execution_count": null,
      "metadata": {
        "colab": {
          "base_uri": "https://localhost:8080/"
        },
        "id": "oAdhX_4D0SMk",
        "outputId": "0d28c7fe-6e60-48a6-d8d6-6648f16a2452"
      },
      "outputs": [
        {
          "name": "stdout",
          "output_type": "stream",
          "text": [
            "Enter step limit: 5\n",
            "* \n",
            "\n",
            "* * \n",
            "\n",
            "* * * \n",
            "\n",
            "* * * * \n",
            "\n",
            "* * * * * \n",
            "\n"
          ]
        }
      ],
      "source": [
        "def pattern(n):\n",
        "      for i in range(1,n+1):\n",
        "          for j in range(1,i+1):\n",
        "              print(\"*\", end = \" \")\n",
        "          print(\"\\n\")\n",
        "num = int(input(\"Enter step limit: \"))\n",
        "pattern(num)"
      ]
    },
    {
      "cell_type": "markdown",
      "source": [
        "19). WAP to print the following pattern for n rows. Ex. for n=5 rows"
      ],
      "metadata": {
        "id": "fZGMaG8PXFe9"
      }
    },
    {
      "cell_type": "code",
      "execution_count": null,
      "metadata": {
        "colab": {
          "base_uri": "https://localhost:8080/"
        },
        "id": "TrBpoTn80SaN",
        "outputId": "2e4e5a54-1141-4ab4-f7f8-03474e3d0168"
      },
      "outputs": [
        {
          "name": "stdout",
          "output_type": "stream",
          "text": [
            "Enter step limit: 4\n",
            "1 \n",
            "\n",
            "2 1 \n",
            "\n",
            "1 2 3 \n",
            "\n",
            "4 3 2 1 \n",
            "\n"
          ]
        }
      ],
      "source": [
        "def pattern(n):\n",
        "      for i in range(1,n+1):\n",
        "          if i % 2 == 0:\n",
        "              for j in range(i,0,-1):\n",
        "                  print(j, end = \" \")\n",
        "              print(\"\\n\")\n",
        "          else:\n",
        "              for j in range(1,i+1):\n",
        "                  print(j, end = \" \")\n",
        "              print(\"\\n\")\n",
        "num = int(input(\"Enter step limit: \"))\n",
        "pattern(num)"
      ]
    },
    {
      "cell_type": "markdown",
      "source": [
        "20). WAP to convert a decimal number into its equivalent number with base b. Decimal number and b are the user input."
      ],
      "metadata": {
        "id": "WF_PRdskXNv-"
      }
    },
    {
      "cell_type": "code",
      "execution_count": null,
      "metadata": {
        "colab": {
          "base_uri": "https://localhost:8080/"
        },
        "id": "lxtCai_i1hAo",
        "outputId": "7e1105d2-ee44-4494-bb5a-993733044c21"
      },
      "outputs": [
        {
          "name": "stdout",
          "output_type": "stream",
          "text": [
            "Enter the decimal number: 285\n",
            "Enter the base you want to convert it to: 16\n",
            "The decimal number 285 in base 16 is: 0x11d\n"
          ]
        }
      ],
      "source": [
        "def convnum(n,b):\n",
        "    if b==2:\n",
        "        return bin(n)\n",
        "    elif b==8:\n",
        "        return oct(n)\n",
        "    elif b==16:\n",
        "        return hex(n)\n",
        "num=int(input(\"Enter the decimal number: \"))\n",
        "b=int(input(\"Enter the base you want to convert it to: \"))\n",
        "print(\"The decimal number {} in base {} is: {}\".format(num,b,convnum(num,b)))"
      ]
    },
    {
      "cell_type": "markdown",
      "source": [
        "20). WAP to convert a decimal number into its equivalent number with base b. Decimal number and b are the user input."
      ],
      "metadata": {
        "id": "zd27EmQ_XXoA"
      }
    },
    {
      "cell_type": "code",
      "execution_count": null,
      "metadata": {
        "colab": {
          "base_uri": "https://localhost:8080/"
        },
        "id": "ALPaHW0PGTZQ",
        "outputId": "e7f3b1dd-678a-453c-a4e7-26d55b67d4c0"
      },
      "outputs": [
        {
          "name": "stdout",
          "output_type": "stream",
          "text": [
            "Enter the number: 0x4f\n",
            "Enter the base the number is in: 16\n",
            "The number 0x4f base 16 in its decimal form is: 79\n"
          ]
        }
      ],
      "source": [
        "def decnum(n,b):\n",
        "    if b==2:\n",
        "        return int(n,2)\n",
        "    elif b==8:\n",
        "        return int(n,8)\n",
        "    elif b==16:\n",
        "        return int(n,16)\n",
        "num=input(\"Enter the number: \")\n",
        "b=int(input(\"Enter the base the number is in: \"))\n",
        "print(\"The number {} base {} in its decimal form is: {}\".format(num,b,decnum(num,b)))"
      ]
    },
    {
      "cell_type": "markdown",
      "source": [
        "22). WAP to convert a binary number to its equivalent octal- hexa-decimal number system."
      ],
      "metadata": {
        "id": "C1fubDdFXdkO"
      }
    },
    {
      "cell_type": "code",
      "execution_count": null,
      "metadata": {
        "colab": {
          "base_uri": "https://localhost:8080/"
        },
        "id": "Zrf1nJ6j1hEE",
        "outputId": "baaaedad-cafd-4f28-8f3e-b65fef2535f8"
      },
      "outputs": [
        {
          "name": "stdout",
          "output_type": "stream",
          "text": [
            "Enter the number: 1001011\n",
            "The binary number 1001011 in its equivalent octal form is: 0o113\n",
            "The binary number 1001011 in its equivalent decimal form is: 75\n",
            "The binary number 1001011 in its equivalent hexadecimal form is: 0x4b\n"
          ]
        }
      ],
      "source": [
        "def binnum(n):\n",
        "    dec=int(n,2)\n",
        "    print(\"The binary number {} in its equivalent octal form is: {}\".format(n,oct(dec)))\n",
        "    print(\"The binary number {} in its equivalent decimal form is: {}\".format(n,dec))\n",
        "    print(\"The binary number {} in its equivalent hexadecimal form is: {}\".format(n,hex(dec)))\n",
        "num=input(\"Enter the number: \")\n",
        "binnum(num)"
      ]
    },
    {
      "cell_type": "markdown",
      "source": [
        "23) write a python function to implement ( take user input list to display output)\n",
        "a) Bubble sort()\n",
        "b) Selection sort()\n",
        "c) Linear Search()\n",
        "d) Quick sort()\n",
        "e) Insertion Sort()"
      ],
      "metadata": {
        "id": "2y54i5GEX2M4"
      }
    },
    {
      "cell_type": "code",
      "execution_count": null,
      "metadata": {
        "colab": {
          "base_uri": "https://localhost:8080/"
        },
        "id": "ZBQjVd9nGI3M",
        "outputId": "ed015ef5-0475-4c13-aa1a-0e66341c3f9d"
      },
      "outputs": [
        {
          "name": "stdout",
          "output_type": "stream",
          "text": [
            "Enter the list elements: 2 7 1 4 9 5\n",
            "list after bubble sort: [1, 2, 4, 5, 7, 9]\n",
            "list after selection sort: [1, 2, 4, 5, 7, 9]\n",
            "list after insertion sort: [1, 2, 4, 5, 7, 9]\n",
            "Enter element to be searched: 8\n",
            "Element not found\n"
          ]
        }
      ],
      "source": [
        "def bubbleSort(arr):\n",
        "    n = len(arr)\n",
        "    for i in range(n-1):\n",
        "        for j in range(0, n-i-1):\n",
        "            if arr[j] > arr[j + 1] :\n",
        "                arr[j], arr[j + 1] = arr[j + 1], arr[j]\n",
        "    print(\"list after bubble sort: {}\".format(arr))\n",
        "def selectionSort(arr):\n",
        "    for i in range(len(arr)):\n",
        "        min_idx = i\n",
        "        for j in range(i+1, len(arr)):\n",
        "            if arr[min_idx] > arr[j]:\n",
        "                min_idx = j     \n",
        "        arr[i], arr[min_idx] = arr[min_idx], arr[i]\n",
        "    print(\"list after selection sort: {}\".format(arr))\n",
        "def linearSearch(arr, x):\n",
        "    flag=0\n",
        "    for i in range(len(arr)):\n",
        "        if arr[i] == x:\n",
        "            flag=1\n",
        "            break\n",
        "    if flag==0:\n",
        "        print(\"Element not found\")\n",
        "    else:\n",
        "        print(\"Element was found\")\n",
        "def partition(arr, low, high):\n",
        "    i = (low-1)         \n",
        "    pivot = arr[high]   \n",
        "    for j in range(low, high):\n",
        "        if arr[j] <= pivot:\n",
        "            i = i+1\n",
        "            arr[i], arr[j] = arr[j], arr[i]\n",
        "    arr[i+1], arr[high] = arr[high], arr[i+1]\n",
        "    return (i+1)\n",
        "def quickSort(arr, low, high):\n",
        "    if len(arr) == 1:\n",
        "        return arr\n",
        "    if low < high:\n",
        "        pi = partition(arr, low, high)\n",
        "        quickSort(arr, low, pi-1)\n",
        "        quickSort(arr, pi+1, high)\n",
        "def insertionSort(arr):\n",
        "    for i in range(1, len(arr)):\n",
        "        key = arr[i]\n",
        "        j = i-1\n",
        "        while j >=0 and key < arr[j]:\n",
        "                arr[j+1] = arr[j]\n",
        "                j -= 1\n",
        "        arr[j+1] = key\n",
        "    print(\"list after insertion sort: {}\".format(arr))\n",
        "l=list(map(int,input(\"Enter the list elements: \").split(\" \")))\n",
        "bubbleSort(l)\n",
        "selectionSort(l)\n",
        "insertionSort(l)\n",
        "quickSort(l,0,len(l)-1)\n",
        "key=int(input(\"Enter element to be searched: \"))\n",
        "linearSearch(l,key)"
      ]
    },
    {
      "cell_type": "markdown",
      "source": [
        "24) write function to find smallest number in a list"
      ],
      "metadata": {
        "id": "gPDpUy_cYKHr"
      }
    },
    {
      "cell_type": "code",
      "execution_count": null,
      "metadata": {
        "colab": {
          "base_uri": "https://localhost:8080/"
        },
        "id": "fVTB5DcQ0IgX",
        "outputId": "d78b19ac-bc7b-48d2-bf40-abb6d19d2fe0"
      },
      "outputs": [
        {
          "name": "stdout",
          "output_type": "stream",
          "text": [
            "Enter elements: 2 7 1 4 9 5\n",
            "Smallest element of list:  1\n"
          ]
        }
      ],
      "source": [
        "def smallest(l):\n",
        "      l.sort()\n",
        "      size = len(l)\n",
        "      return l[0]\n",
        "l1 = list(input(\"Enter elements: \").split(\" \"))\n",
        "print(\"Smallest element of list: \", smallest(l1))"
      ]
    },
    {
      "cell_type": "markdown",
      "source": [
        "25)write a python function to find largest number in a list"
      ],
      "metadata": {
        "id": "XB6l4QVnYOtP"
      }
    },
    {
      "cell_type": "code",
      "execution_count": null,
      "metadata": {
        "colab": {
          "base_uri": "https://localhost:8080/"
        },
        "id": "VjbGXx2dz-FC",
        "outputId": "96db9d37-33bb-4a43-c8bf-d0dc2e48b775"
      },
      "outputs": [
        {
          "name": "stdout",
          "output_type": "stream",
          "text": [
            "Enter elements: 2 7 1 4 9 5\n",
            "Largest element of list:  9\n"
          ]
        }
      ],
      "source": [
        "def largest(l):\n",
        "      l.sort()\n",
        "      size = len(l)\n",
        "      return l[size - 1]\n",
        "l1 = list(input(\"Enter elements: \").split(\" \"))\n",
        "print(\"Largest element of list: \", largest(l1))"
      ]
    },
    {
      "cell_type": "markdown",
      "source": [
        "26) write a python function to find second largest number in a list"
      ],
      "metadata": {
        "id": "6dW7Mn0pYVgF"
      }
    },
    {
      "cell_type": "code",
      "execution_count": null,
      "metadata": {
        "colab": {
          "base_uri": "https://localhost:8080/"
        },
        "id": "R56FArCTycd0",
        "outputId": "d82693ab-2f22-4e43-b8f8-24809b04d83b"
      },
      "outputs": [
        {
          "name": "stdout",
          "output_type": "stream",
          "text": [
            "Enter elements: 2 7 1 4 9 5\n",
            "Second largest element of list:  7\n"
          ]
        }
      ],
      "source": [
        "def second_largest(l):\n",
        "      l.sort()\n",
        "      size = len(l)\n",
        "      return l[size - 2]\n",
        "l1 = list(input(\"Enter elements: \").split(\" \"))\n",
        "print(\"Second largest element of list: \", second_largest(l1))"
      ]
    },
    {
      "cell_type": "markdown",
      "source": [
        "27) write a lambda function to implement :\n",
        "a) Square of number (use map function to find)\n",
        "b) Cube of number\n",
        "c) Max of two number (4,5)"
      ],
      "metadata": {
        "id": "Xet7vnTRYZCS"
      }
    },
    {
      "cell_type": "code",
      "execution_count": null,
      "metadata": {
        "colab": {
          "base_uri": "https://localhost:8080/"
        },
        "id": "wiWxEe9QwjLK",
        "outputId": "4d37b2e9-6f2d-4214-ce48-f608d3dcb680"
      },
      "outputs": [
        {
          "name": "stdout",
          "output_type": "stream",
          "text": [
            "Enter number: 5\n",
            "Square:  25 , Cube:  125\n",
            "Enter second number: 3\n",
            "Maximum of two numbers:  5\n"
          ]
        }
      ],
      "source": [
        "square = lambda x: x**2\n",
        "cube = lambda x: x**3\n",
        "max = lambda x,y: x if x>=y else y\n",
        "num = int(input(\"Enter number: \"))\n",
        "print(\"Square: \", square(num), \", Cube: \", cube(num))\n",
        "num2 = int(input(\"Enter second number: \"))\n",
        "print(\"Maximum of two numbers: \", max(num,num2))"
      ]
    },
    {
      "cell_type": "markdown",
      "source": [
        "28) Write a python program to find the square and cube of the list L: [1,2,3,4,5,6,7,8,9,10],Using map function"
      ],
      "metadata": {
        "id": "NdRH63iMZVyo"
      }
    },
    {
      "cell_type": "code",
      "source": [
        "def square(n):\n",
        "    return n*n\n",
        "def cube(n):\n",
        "    return n*n*n\n",
        "my_list = [1,2,3,4,5,6,7,8,9,10]\n",
        "updated_square_list = map(square, my_list)\n",
        "updated_cube_list = map(cube, my_list)\n",
        "print(list(updated_square_list))\n",
        "print(list(updated_cube_list))"
      ],
      "metadata": {
        "colab": {
          "base_uri": "https://localhost:8080/"
        },
        "id": "qojrILipZVFB",
        "outputId": "1ba83848-a4cf-499f-8b76-c6e91931dab8"
      },
      "execution_count": null,
      "outputs": [
        {
          "output_type": "stream",
          "name": "stdout",
          "text": [
            "[1, 4, 9, 16, 25, 36, 49, 64, 81, 100]\n",
            "[1, 8, 27, 64, 125, 216, 343, 512, 729, 1000]\n"
          ]
        }
      ]
    },
    {
      "cell_type": "markdown",
      "source": [
        "29) Write a python program to number which are prime numbers in the given list L:\n",
        "[1,2,3,4,5,6,7,8,9,10] Using filter function."
      ],
      "metadata": {
        "id": "gIGr_riXZ61u"
      }
    },
    {
      "cell_type": "code",
      "source": [
        "def find_prime(n):\n",
        "       if n <=1:\n",
        "         return False\n",
        "       else:\n",
        "          for i in range(2, n):\n",
        "              if n % i == 0:\n",
        "                  return False\n",
        "       return True\n",
        "my_list = [1,2,3,4,5,6,7,8,9,10]\n",
        "x = filter(find_prime, my_list) \n",
        "print(list(x))"
      ],
      "metadata": {
        "colab": {
          "base_uri": "https://localhost:8080/"
        },
        "id": "hkg86pNpZ_fV",
        "outputId": "d33b5206-9879-4854-f95a-0de8fe058a2f"
      },
      "execution_count": null,
      "outputs": [
        {
          "output_type": "stream",
          "name": "stdout",
          "text": [
            "[2, 3, 5, 7]\n"
          ]
        }
      ]
    },
    {
      "cell_type": "markdown",
      "source": [
        "30)Write a python program to find following operations for the give the list L:\n",
        "[1,2,3,4,5,6,7,8,9,10] Using reduce function\n",
        "a. compute maximum element from list\n",
        "b. compute sum of list"
      ],
      "metadata": {
        "id": "yQBxw7wHcPPQ"
      }
    },
    {
      "cell_type": "code",
      "source": [
        "from functools import reduce\n",
        "\n",
        "list1 = [1,2,3,4,5,6,7,8,9,10]\n",
        "\n",
        "print(reduce(max, list1))\n",
        "sum = reduce(lambda x, y: x + y, list1)\n",
        "print(\"Sum = \",sum)"
      ],
      "metadata": {
        "colab": {
          "base_uri": "https://localhost:8080/"
        },
        "id": "d59wescncUE_",
        "outputId": "1355125a-0d91-4c23-8536-2b3f2749df1c"
      },
      "execution_count": null,
      "outputs": [
        {
          "output_type": "stream",
          "name": "stdout",
          "text": [
            "10\n",
            "Sum =  55\n"
          ]
        }
      ]
    },
    {
      "cell_type": "markdown",
      "source": [
        "30) Given list of elements, the task here is to write a Python function that can remove presence\n",
        "of all a specific digit from every element and then return the resultant list\n",
        "Input : test_list = [333, 893, 1948, 34, 2346], K = 3\n",
        "Output : [”, 89, 1948, 4, 246]"
      ],
      "metadata": {
        "id": "3pzOmz-mdgQ5"
      }
    },
    {
      "cell_type": "code",
      "source": [
        "test_list = [345, 893, 1948, 34, 2346]\n",
        "print(\"The original list is : \" + str(test_list))\n",
        "K = 3\n",
        "res = []\n",
        "for ele in test_list:\n",
        "    if list(set(str(ele)))[0] == str(K) and len(set(str(ele))) == 1:\n",
        "        res.append('')\n",
        "    else:\n",
        "        res.append(int(''.join([el for el in str(ele) if int(el) != K])))\n",
        "print(\"Modified List : \" + str(res))"
      ],
      "metadata": {
        "colab": {
          "base_uri": "https://localhost:8080/"
        },
        "id": "iwCTxQUEdgsR",
        "outputId": "62e1c8eb-7e30-486a-84c1-81019a8fdce1"
      },
      "execution_count": null,
      "outputs": [
        {
          "output_type": "stream",
          "name": "stdout",
          "text": [
            "The original list is : [345, 893, 1948, 34, 2346]\n",
            "Modified List : [45, 89, 1948, 4, 246]\n"
          ]
        }
      ]
    }
  ],
  "metadata": {
    "colab": {
      "name": "LAB Assignment 3.ipynb",
      "provenance": []
    },
    "kernelspec": {
      "display_name": "Python 3 (ipykernel)",
      "language": "python",
      "name": "python3"
    },
    "language_info": {
      "codemirror_mode": {
        "name": "ipython",
        "version": 3
      },
      "file_extension": ".py",
      "mimetype": "text/x-python",
      "name": "python",
      "nbconvert_exporter": "python",
      "pygments_lexer": "ipython3",
      "version": "3.9.7"
    }
  },
  "nbformat": 4,
  "nbformat_minor": 0
}