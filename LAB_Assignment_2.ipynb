{
  "nbformat": 4,
  "nbformat_minor": 0,
  "metadata": {
    "colab": {
      "name": "LAB Assignment 2.ipynb",
      "provenance": [],
      "collapsed_sections": [
        "DF7NwiFslppL",
        "CszP77hpmeK3",
        "eBaZFMSApl4v"
      ]
    },
    "kernelspec": {
      "name": "python3",
      "display_name": "Python 3"
    },
    "language_info": {
      "name": "python"
    }
  },
  "cells": [
    {
      "cell_type": "markdown",
      "source": [
        "# **LAB Assignment 2**\n",
        "Submission Date : 9.2.22  \n",
        "By : Amrutanshu Dash        \n",
        "Roll No : 1905735\n",
        "\n",
        "---\n",
        "\n"
      ],
      "metadata": {
        "id": "KKub6T5EsvPB"
      }
    },
    {
      "cell_type": "markdown",
      "source": [
        "## Strings"
      ],
      "metadata": {
        "id": "DF7NwiFslppL"
      }
    },
    {
      "cell_type": "markdown",
      "source": [
        "Q1. Write a Python Program to count the number of vowels in a string."
      ],
      "metadata": {
        "id": "y7o215omletW"
      }
    },
    {
      "cell_type": "code",
      "execution_count": 2,
      "metadata": {
        "id": "XILG5zMQp6Np",
        "colab": {
          "base_uri": "https://localhost:8080/",
          "height": 0
        },
        "outputId": "ca5c3276-a2b2-4d9e-b649-e7cf44d8208f"
      },
      "outputs": [
        {
          "output_type": "stream",
          "name": "stdout",
          "text": [
            "Enter a string to count the no of vowels: Gandhi Jayanti is celebrated on 2nd October every year.\n",
            "Total no of vowels=  18\n"
          ]
        }
      ],
      "source": [
        "stri = input(\"Enter a string to count the no of vowels: \")\n",
        "vowels = 0\n",
        "for i in stri:\n",
        "    if(i == 'a' or i == 'e' or i == 'i' or i == 'o' or i == 'u' or i == 'A' or i == 'E' or i == 'I' or i == 'O' or i == 'U'):\n",
        "        vowels = vowels + 1\n",
        " \n",
        "print(\"Total no of vowels= \", vowels)\n",
        "    "
      ]
    },
    {
      "cell_type": "markdown",
      "source": [
        "Q2. Write a Python Program to replace all occurrences of ‘a’ with ‘@’ in a string. "
      ],
      "metadata": {
        "id": "iZgN7s1XlhUP"
      }
    },
    {
      "cell_type": "code",
      "source": [
        "stra = input(\"Enter a string to replace all occurences: \")\n",
        "new_str = ''\n",
        "\n",
        "for char in stra:\n",
        "   if(stra[char] == 'a'):\n",
        "      new_str += '$'\n",
        "   else:\n",
        "      new_str += stra[char]\n",
        "\n",
        "print(\"The modified string is : \", new_str)"
      ],
      "metadata": {
        "colab": {
          "base_uri": "https://localhost:8080/",
          "height": 0
        },
        "id": "d9JhkDVYl04Z",
        "outputId": "e78fcecd-eed0-42f4-d9ea-b95b63ebfaea"
      },
      "execution_count": 5,
      "outputs": [
        {
          "output_type": "stream",
          "name": "stdout",
          "text": [
            "Enter a string to replace all occurences: Gandhi Jayanti is celebrated on 2nd October every year.\n",
            "New string is=  G$ndhi J$y$nti is celebr$ted on 2nd October every ye$r.\n"
          ]
        }
      ]
    },
    {
      "cell_type": "markdown",
      "source": [
        "Q3. Write a Python Program to calculate the length of a string without using a library function. "
      ],
      "metadata": {
        "id": "iIhgFv4Bl1OO"
      }
    },
    {
      "cell_type": "code",
      "source": [
        "string= input(\"Enter string:\")\n",
        "count=0\n",
        "for i in string:\n",
        "      count=count+1\n",
        "print(\"Length of the string is:\", count)"
      ],
      "metadata": {
        "colab": {
          "base_uri": "https://localhost:8080/",
          "height": 0
        },
        "id": "M09knMxJl5Kj",
        "outputId": "d34896b4-642b-4e9f-be72-38fa6393875a"
      },
      "execution_count": 25,
      "outputs": [
        {
          "output_type": "stream",
          "name": "stdout",
          "text": [
            "Enter string:Gandhi Jayanti is celebrated on 2nd October every year.\n",
            "Length of the string is: 55\n"
          ]
        }
      ]
    },
    {
      "cell_type": "markdown",
      "source": [
        "Q4. Write a Python Program to take in two strings and display the smallest string without using the library function. "
      ],
      "metadata": {
        "id": "XVseLGeZl5hY"
      }
    },
    {
      "cell_type": "code",
      "source": [
        "str1 = input(\"Enter 1st string: \")\n",
        "str2 = input(\"Enter 2nd string: \")\n",
        "if(len(str1) < len(str2)):\n",
        "    print(str1)\n",
        "else:\n",
        "    print(str2)"
      ],
      "metadata": {
        "colab": {
          "base_uri": "https://localhost:8080/",
          "height": 0
        },
        "id": "vMBVW51BmAUP",
        "outputId": "90c08b54-0f49-483d-f52b-cbe0bfcbd758"
      },
      "execution_count": 24,
      "outputs": [
        {
          "output_type": "stream",
          "name": "stdout",
          "text": [
            "Enter 1st string: heelellllo \n",
            "Enter 2nd string: Kamado Tanjiro\n",
            "heelellllo \n"
          ]
        }
      ]
    },
    {
      "cell_type": "markdown",
      "source": [
        "Q5. Write a Python Program to count the number of lowercase and uppercase letters in a string. "
      ],
      "metadata": {
        "id": "whq6BOMqmC3f"
      }
    },
    {
      "cell_type": "code",
      "source": [
        "string= input(\"Enter string: \")\n",
        "count1=0\n",
        "count2=0\n",
        "for i in string:\n",
        "      if(i.islower()):\n",
        "            count1=count1+1\n",
        "      elif(i.isupper()):\n",
        "            count2=count2+1\n",
        "print(\"The number of lowercase characters is: \", count1)\n",
        "print(\"The number of uppercase characters is: \", count2)"
      ],
      "metadata": {
        "colab": {
          "base_uri": "https://localhost:8080/",
          "height": 0
        },
        "id": "u1f4y_atmGS0",
        "outputId": "c93335a6-4681-41f1-e635-238a4862f4ed"
      },
      "execution_count": 23,
      "outputs": [
        {
          "output_type": "stream",
          "name": "stdout",
          "text": [
            "Enter string: Gandhi Jayanti is celebrated on 2nd October every year.\n",
            "The number of lowercase characters is:  42\n",
            "The number of uppercase characters is:  3\n"
          ]
        }
      ]
    },
    {
      "cell_type": "markdown",
      "source": [
        "Q6. Write a Python Program to count the number of digits and characters in a string. "
      ],
      "metadata": {
        "id": "sdazYqhbmGtz"
      }
    },
    {
      "cell_type": "code",
      "source": [
        "string= input(\"Enter string:\")\n",
        "count1=0\n",
        "count2=0\n",
        "for i in string:\n",
        "      if(i.isdigit()):\n",
        "            count1=count1+1\n",
        "      count2=count2+1\n",
        "print(\"The number of digits is: \", count1)\n",
        "print(\"The number of characters is: \", count2)"
      ],
      "metadata": {
        "colab": {
          "base_uri": "https://localhost:8080/",
          "height": 0
        },
        "id": "VuKL33k6mLh8",
        "outputId": "32c2ec8a-e8b7-4f94-b032-02063f2fa23c"
      },
      "execution_count": 22,
      "outputs": [
        {
          "output_type": "stream",
          "name": "stdout",
          "text": [
            "Enter string:Gandhi Jayanti is celebrated on 2nd October every year.\n",
            "The number of digits is:  1\n",
            "The number of characters is:  55\n"
          ]
        }
      ]
    },
    {
      "cell_type": "markdown",
      "source": [
        "Q7. Write a Python program to get a string made of the first 3 and the last 3 chars from a given string. If the string length is less than 3, return instead of the empty string. "
      ],
      "metadata": {
        "id": "R4ehUa7gmL0j"
      }
    },
    {
      "cell_type": "code",
      "source": [
        "string= input(\"Enter string:\")\n",
        "if(len(string) < 3):\n",
        "    print(string)\n",
        "else:\n",
        "    new_str = string[0:3] + string[-3:]\n",
        "    print(new_str)"
      ],
      "metadata": {
        "colab": {
          "base_uri": "https://localhost:8080/",
          "height": 0
        },
        "id": "gRRZFGgMmPAi",
        "outputId": "3c73f8be-03f6-421c-891c-69ddf2c9f70a"
      },
      "execution_count": 21,
      "outputs": [
        {
          "output_type": "stream",
          "name": "stdout",
          "text": [
            "Enter string:hello world\n",
            "helrld\n"
          ]
        }
      ]
    },
    {
      "cell_type": "markdown",
      "source": [
        "Q8. Write a Python program to count the occurrences of each word in a given string sentence. "
      ],
      "metadata": {
        "id": "Bzwk_4m5mPVU"
      }
    },
    {
      "cell_type": "code",
      "source": [
        "string = input(\"Enter the string: \")\n",
        "word = input(\"Enter the word to count: \")\n",
        "a=[]\n",
        "count=0\n",
        "a=string.split(\" \")\n",
        "for i in range(0,len(a)):\n",
        "      if(word==a[i]):\n",
        "            count=count+1\n",
        "print(\"Count of the word is: \", count)"
      ],
      "metadata": {
        "colab": {
          "base_uri": "https://localhost:8080/",
          "height": 0
        },
        "id": "uneDQiwrWJOH",
        "outputId": "94e0bef2-a27b-4b98-a079-e3a9897b94cc"
      },
      "execution_count": 9,
      "outputs": [
        {
          "output_type": "stream",
          "name": "stdout",
          "text": [
            "Enter string:hello world\n",
            "Enter word:world\n",
            "Count of the word is:\n",
            "1\n"
          ]
        }
      ]
    },
    {
      "cell_type": "markdown",
      "source": [
        "Q9. Write a Python program to check if a string is Palindrome or not. "
      ],
      "metadata": {
        "id": "x0XkrRHhmSNI"
      }
    },
    {
      "cell_type": "code",
      "source": [
        "string=input(\"Enter string: \")\n",
        "if(string == string[::-1]):\n",
        "   print(\"The string is a palindrome.\")\n",
        "else:\n",
        "   print(\"The string isn't a palindrome.\")"
      ],
      "metadata": {
        "colab": {
          "base_uri": "https://localhost:8080/",
          "height": 0
        },
        "id": "LqdzQWf1mVH9",
        "outputId": "378f130a-bb16-4225-cee5-7c3da984bbd7"
      },
      "execution_count": 11,
      "outputs": [
        {
          "output_type": "stream",
          "name": "stdout",
          "text": [
            "Enter string: hello world\n",
            "The string isn't a palindrome.\n"
          ]
        }
      ]
    },
    {
      "cell_type": "markdown",
      "source": [
        "Q10. Write a Python program to reverse a string"
      ],
      "metadata": {
        "id": "c7LxOrZLmVs8"
      }
    },
    {
      "cell_type": "code",
      "source": [
        "string = input(\"Enter the string: \")\n",
        "print(\"The reversed string is: \", string[::-1])"
      ],
      "metadata": {
        "colab": {
          "base_uri": "https://localhost:8080/",
          "height": 0
        },
        "id": "igFragB7mX2k",
        "outputId": "26b2ea85-a358-4664-fa2e-5207f726a34c"
      },
      "execution_count": 19,
      "outputs": [
        {
          "output_type": "stream",
          "name": "stdout",
          "text": [
            "Enter the string: hello\n",
            "The reversed string is:  olleh\n"
          ]
        }
      ]
    },
    {
      "cell_type": "markdown",
      "source": [
        "## Lists"
      ],
      "metadata": {
        "id": "CszP77hpmeK3"
      }
    },
    {
      "cell_type": "markdown",
      "source": [
        "Q1. Write a Python Program to find the print sum, average of all numbers, smallest and largest element of a list. "
      ],
      "metadata": {
        "id": "TD4TP7N7mgyg"
      }
    },
    {
      "cell_type": "code",
      "source": [
        "nexa = [2, 3, 5, 7]\n",
        "print(\"Sum of list: \", sum(nexa))\n",
        "print(\"Average of the list: \", sum(nexa)/len(nexa))\n",
        "print(\"Maximum element of list: \", max(nexa))\n",
        "print(\"Minimum element of list: \", min(nexa))"
      ],
      "metadata": {
        "colab": {
          "base_uri": "https://localhost:8080/",
          "height": 0
        },
        "id": "OHaBCFinmojs",
        "outputId": "30079dd4-341a-489f-84c6-dad24f64b1bd"
      },
      "execution_count": 51,
      "outputs": [
        {
          "output_type": "stream",
          "name": "stdout",
          "text": [
            "Sum of list:  17\n",
            "Average of the list:  4.25\n",
            "Maximum element of list:  7\n",
            "Minimum element of list:  2\n"
          ]
        }
      ]
    },
    {
      "cell_type": "markdown",
      "source": [
        "Q2. Write a Python Program to find the 2 nd largest and 3 rd smallest number in a list. "
      ],
      "metadata": {
        "id": "m5oWOCZzmo3l"
      }
    },
    {
      "cell_type": "code",
      "source": [
        "nexa = [12, 45, 2, 41, 31, 10, 8, 6, 4]\n",
        "nexa.sort()\n",
        "print(\"The 2nd largest element: \", nexa[-2])\n",
        "print(\"The 3rd smallest element: \", nexa[3])"
      ],
      "metadata": {
        "colab": {
          "base_uri": "https://localhost:8080/",
          "height": 0
        },
        "id": "ygii38SLmvHv",
        "outputId": "ac789bd3-a0d9-458f-b98b-a0e0555eab0f"
      },
      "execution_count": 49,
      "outputs": [
        {
          "output_type": "stream",
          "name": "stdout",
          "text": [
            "The 2nd largest element:  41\n",
            "The 3rd smallest element:  8\n"
          ]
        }
      ]
    },
    {
      "cell_type": "markdown",
      "source": [
        "Q3. Write a Python Program to generate random numbers from 1 to 50 and append them to the list. "
      ],
      "metadata": {
        "id": "XpKbWMxKmvao"
      }
    },
    {
      "cell_type": "code",
      "source": [
        "l1=[]\n",
        "for i in range(1, 51):\n",
        "    l1.append(i)\n",
        "print(l1)"
      ],
      "metadata": {
        "colab": {
          "base_uri": "https://localhost:8080/",
          "height": 0
        },
        "id": "3cyE9yUXmzQn",
        "outputId": "999aa40e-14f3-4fe5-ff40-13b7d596913b"
      },
      "execution_count": 28,
      "outputs": [
        {
          "output_type": "stream",
          "name": "stdout",
          "text": [
            "[1, 2, 3, 4, 5, 6, 7, 8, 9, 10, 11, 12, 13, 14, 15, 16, 17, 18, 19, 20, 21, 22, 23, 24, 25, 26, 27, 28, 29, 30, 31, 32, 33, 34, 35, 36, 37, 38, 39, 40, 41, 42, 43, 44, 45, 46, 47, 48, 49, 50]\n"
          ]
        }
      ]
    },
    {
      "cell_type": "markdown",
      "source": [
        "Q4. Write a Python Program to put even and odd elements in a list into two different lists. "
      ],
      "metadata": {
        "id": "mx38vS-Bmzg6"
      }
    },
    {
      "cell_type": "code",
      "source": [
        "nexa = [2, 3, 5, 7, 10, 23, 28]\n",
        "even, odd = [], []\n",
        "for i in nexa:\n",
        "    if(i %2 == 0):\n",
        "        even.append(i)\n",
        "    else:\n",
        "        odd.append(i)\n",
        "\n",
        "print(\"Even numbers: \", even)\n",
        "print(\"Odd numbers: \", odd)"
      ],
      "metadata": {
        "colab": {
          "base_uri": "https://localhost:8080/",
          "height": 0
        },
        "id": "rnoyVPKWm6GC",
        "outputId": "75ade155-104b-4fc5-898f-425ad1a81451"
      },
      "execution_count": 30,
      "outputs": [
        {
          "output_type": "stream",
          "name": "stdout",
          "text": [
            "Even numbers:  [2, 10, 28]\n",
            "Odd numbers:  [3, 5, 7, 23]\n"
          ]
        }
      ]
    },
    {
      "cell_type": "markdown",
      "source": [
        "Q5. Write a Python Program to merge two lists and sort it. "
      ],
      "metadata": {
        "id": "5dCZxWUsm6X2"
      }
    },
    {
      "cell_type": "code",
      "source": [
        "l1 = [12, 45, 2, 41, 31, 10, 8, 6, 4]\n",
        "l2 = [2, 3, 5, 7, 10, 23, 28]\n",
        "l3 = []\n",
        "for i in l1:\n",
        "    l3.append(i)\n",
        "\n",
        "for i in l2:\n",
        "    l3.append(i)\n",
        "l3.sort()\n",
        "print(l3)\n"
      ],
      "metadata": {
        "colab": {
          "base_uri": "https://localhost:8080/",
          "height": 0
        },
        "id": "jbZiJFtim9cQ",
        "outputId": "8e107866-e0e9-4bda-fafb-552a91ffb024"
      },
      "execution_count": 37,
      "outputs": [
        {
          "output_type": "stream",
          "name": "stdout",
          "text": [
            "[2, 2, 3, 4, 5, 6, 7, 8, 10, 10, 12, 23, 28, 31, 41, 45]\n"
          ]
        }
      ]
    },
    {
      "cell_type": "markdown",
      "source": [
        "Q6. Write a Python Program to remove the duplicate items from a list."
      ],
      "metadata": {
        "id": "bCJpzdGzm967"
      }
    },
    {
      "cell_type": "code",
      "source": [
        "l1 = [12, 45, 2,8, 41, 31, 10, 8, 6, 4, 45,31]\n",
        "print(set(l1))"
      ],
      "metadata": {
        "colab": {
          "base_uri": "https://localhost:8080/",
          "height": 0
        },
        "id": "CIqzQw2hnCnM",
        "outputId": "bf3f996c-d3d5-4ff9-e4ff-1539c28cb09d"
      },
      "execution_count": 38,
      "outputs": [
        {
          "output_type": "stream",
          "name": "stdout",
          "text": [
            "{2, 4, 6, 8, 41, 10, 12, 45, 31}\n"
          ]
        }
      ]
    },
    {
      "cell_type": "markdown",
      "source": [
        "Q7. Write a Python Program to take a list of words and print the length of the longest word. "
      ],
      "metadata": {
        "id": "IS5I1OGanC5y"
      }
    },
    {
      "cell_type": "code",
      "source": [
        "planets = ['Venus', 'Earth', 'Mars', 'Jupiter', 'Saturn', 'Uranus']\n",
        "length = []\n",
        "for i in planets:\n",
        "    length.append(len(i))\n",
        "print(\"The length of the longest word: \", max(length))"
      ],
      "metadata": {
        "colab": {
          "base_uri": "https://localhost:8080/",
          "height": 0
        },
        "id": "d0WtmXARnGIa",
        "outputId": "1b3fd189-fee0-4493-c989-f16387b934a5"
      },
      "execution_count": 42,
      "outputs": [
        {
          "output_type": "stream",
          "name": "stdout",
          "text": [
            "The length of the longest word:  7\n"
          ]
        }
      ]
    },
    {
      "cell_type": "markdown",
      "source": [
        "Q8. Write a Python program to count the number of strings where the string length is 3 or more and the first and last character are same from a given list of strings.   \n",
        "Input : ['ab', 'aba', 'abaa', 'baba']    \n",
        "Output : 2 "
      ],
      "metadata": {
        "id": "YI2Eq-0dnGfR"
      }
    },
    {
      "cell_type": "code",
      "source": [
        "bubba = ['ab', 'aba', 'abaa', 'baba']\n",
        "count = 0\n",
        "for i in bubba:\n",
        "    if (len(i)>=3 and i[0] == i[-1]):\n",
        "        count +=1\n",
        "print(\"No of strings: \", count)"
      ],
      "metadata": {
        "colab": {
          "base_uri": "https://localhost:8080/",
          "height": 0
        },
        "id": "fJsN1f1jnQVi",
        "outputId": "1165c43f-5845-4832-aa57-2c3f9edf19ab"
      },
      "execution_count": 43,
      "outputs": [
        {
          "output_type": "stream",
          "name": "stdout",
          "text": [
            "No of strings:  2\n"
          ]
        }
      ]
    },
    {
      "cell_type": "markdown",
      "source": [
        "Q9. Write a Python program to check a list is empty or not. "
      ],
      "metadata": {
        "id": "Jpr8u_mGnQlu"
      }
    },
    {
      "cell_type": "code",
      "source": [
        "bubba = ['ab', 'aba', 'abaa', 'baba']\n",
        "if not bubba:\n",
        "    print(\"List is empty\")\n",
        "else:\n",
        "    print(\"List is not empty\")"
      ],
      "metadata": {
        "colab": {
          "base_uri": "https://localhost:8080/",
          "height": 0
        },
        "id": "e6SmJJasnUBb",
        "outputId": "17610910-0e4f-4074-a36d-0669011a6b96"
      },
      "execution_count": 44,
      "outputs": [
        {
          "output_type": "stream",
          "name": "stdout",
          "text": [
            "List is not empty\n"
          ]
        }
      ]
    },
    {
      "cell_type": "markdown",
      "source": [
        "Q10. Write a Python program to take both strings and numbers in a list <br />        a) create separate lists of strings and numbers. <br />\n",
        "b) Sort the strings list in ascending order <br />\n",
        "c) Sort the strings list in descending order <br />\n",
        "d) Sort the number list from lowest to highest <br />\n",
        "e) Sort the number list from highest to lowest"
      ],
      "metadata": {
        "id": "LCuL8rYjnUX0"
      }
    },
    {
      "cell_type": "code",
      "source": [
        "nums = [1, 5, 3, 4, 2, 10, 6, 8, 7, 9]\n",
        "planets = ['Venus', 'Earth', 'Mars', 'Jupiter', 'Saturn', 'Uranus']\n",
        "nums.sort()\n",
        "print('List in Ascending Order: ', nums)\n",
        "\n",
        "nums.sort(reverse=True)\n",
        "print('List in Descending Order: ', nums)\n",
        "\n",
        "planets.sort()\n",
        "print(\"In ascending order: \", planets)\n",
        "\n",
        "planets.sort(reverse = True)\n",
        "print(\"In ascending order: \", planets)"
      ],
      "metadata": {
        "colab": {
          "base_uri": "https://localhost:8080/",
          "height": 0
        },
        "id": "8aSgEHE0oLKK",
        "outputId": "7220eaf6-65a0-4519-96db-755ae5b0545b"
      },
      "execution_count": 46,
      "outputs": [
        {
          "output_type": "stream",
          "name": "stdout",
          "text": [
            "List in Ascending Order:  [1, 2, 3, 4, 5, 6, 7, 8, 9, 10]\n",
            "List in Descending Order:  [10, 9, 8, 7, 6, 5, 4, 3, 2, 1]\n",
            "In ascending order:  ['Earth', 'Jupiter', 'Mars', 'Saturn', 'Uranus', 'Venus']\n",
            "In ascending order:  ['Venus', 'Uranus', 'Saturn', 'Mars', 'Jupiter', 'Earth']\n"
          ]
        }
      ]
    },
    {
      "cell_type": "markdown",
      "source": [
        "Q11. Write a program to add two lists index-wise. Create a new list that contains the 0th index item from both the list, then the 1st index item, and so on till the last element. any leftover items will get added at the end of the new list."
      ],
      "metadata": {
        "id": "o_FbtWuGoLd9"
      }
    },
    {
      "cell_type": "code",
      "source": [
        "list1 = [\"M\", \"na\", \"i\", \"Am\"] \n",
        "list2 = [\"y\", \"me\", \"s\", \"rut\"]\n",
        "list3 = [i + j for i, j in zip(list1, list2)]\n",
        "print(list3)"
      ],
      "metadata": {
        "colab": {
          "base_uri": "https://localhost:8080/",
          "height": 0
        },
        "id": "69Wssb3YoQmh",
        "outputId": "63918355-466e-4c97-89b1-44f508061394"
      },
      "execution_count": 48,
      "outputs": [
        {
          "output_type": "stream",
          "name": "stdout",
          "text": [
            "['My', 'name', 'is', 'Amrut']\n"
          ]
        }
      ]
    },
    {
      "cell_type": "markdown",
      "source": [
        "Q12. Given a Python list, write a program to remove all occurrences of item 20. <br />\n",
        "Given: list1 = [5, 20, 15, 20, 25, 50, 20]"
      ],
      "metadata": {
        "id": "XKM5kKfToRDB"
      }
    },
    {
      "cell_type": "code",
      "source": [
        "list1 = [5, 20, 15, 20, 25, 50, 20]\n",
        "l2 = []\n",
        "for i in list1:\n",
        "    if(i != 20):\n",
        "        l2.append(i)\n",
        "\n",
        "print(\"New list: \", l2)"
      ],
      "metadata": {
        "colab": {
          "base_uri": "https://localhost:8080/",
          "height": 0
        },
        "id": "hc_EPW2qoYdX",
        "outputId": "a6f65978-549b-4b9c-dd56-907998eba6e9"
      },
      "execution_count": 45,
      "outputs": [
        {
          "output_type": "stream",
          "name": "stdout",
          "text": [
            "New list:  [5, 15, 25, 50]\n"
          ]
        }
      ]
    },
    {
      "cell_type": "markdown",
      "source": [
        "## Tuples"
      ],
      "metadata": {
        "id": "yAp0N5XwojLc"
      }
    },
    {
      "cell_type": "markdown",
      "source": [
        "Q1. Write a Python program to convert a tuple to a string..\n",
        "\n"
      ],
      "metadata": {
        "id": "TLNZJO2nolBH"
      }
    },
    {
      "cell_type": "code",
      "source": [
        "t = ('t', 'r', 'a', 'u', 'm', 'a')\n",
        "str1 = ''.join(t)\n",
        "print(str1)"
      ],
      "metadata": {
        "colab": {
          "base_uri": "https://localhost:8080/",
          "height": 0
        },
        "id": "sCEilCEXosBG",
        "outputId": "af11dccc-c8eb-405d-8353-59e601e11c46"
      },
      "execution_count": 54,
      "outputs": [
        {
          "output_type": "stream",
          "name": "stdout",
          "text": [
            "trauma\n"
          ]
        }
      ]
    },
    {
      "cell_type": "markdown",
      "source": [
        "Q2. Write a Python program to find the repeated items of a tuple\n",
        "\n"
      ],
      "metadata": {
        "id": "QSoFFWC-oxRM"
      }
    },
    {
      "cell_type": "code",
      "source": [
        "tup = ( 2, 4, 5, 6, 2, 3, 4, 4, 7 )\n",
        "rep=[]\n",
        "for i in tup:\n",
        "    if tup.count(i)>1:\n",
        "        rep.append(i)\n",
        "    else:\n",
        "        continue\n",
        "for x in rep:\n",
        "    while rep.count(x)>1:\n",
        "        rep.remove(x)\n",
        "           \n",
        "    \n",
        "print(\"Repeated items:\",tuple(rep))\n"
      ],
      "metadata": {
        "colab": {
          "base_uri": "https://localhost:8080/",
          "height": 0
        },
        "id": "K8zkzG_AowPd",
        "outputId": "aa5625e0-18e9-4bcb-f1a2-96022c942fef"
      },
      "execution_count": 62,
      "outputs": [
        {
          "output_type": "stream",
          "name": "stdout",
          "text": [
            "Repeated items: (2, 4)\n"
          ]
        }
      ]
    },
    {
      "cell_type": "markdown",
      "source": [
        "Q3. Write a Python program to convert a list to a tuple..\n",
        "\n"
      ],
      "metadata": {
        "id": "q3vY27cdpMSD"
      }
    },
    {
      "cell_type": "code",
      "source": [
        "l = [1,2,3,3,4]\n",
        "t = tuple(l)\n",
        "print(t)"
      ],
      "metadata": {
        "colab": {
          "base_uri": "https://localhost:8080/",
          "height": 0
        },
        "id": "xW1faMCtpPbJ",
        "outputId": "3fe3c13b-0741-4dcc-e650-fc49a39bfb43"
      },
      "execution_count": 58,
      "outputs": [
        {
          "output_type": "stream",
          "name": "stdout",
          "text": [
            "(1, 2, 3, 3, 4)\n"
          ]
        }
      ]
    },
    {
      "cell_type": "markdown",
      "source": [
        "Q4. Write a Python program to reverse a tuple.\n",
        "\n"
      ],
      "metadata": {
        "id": "Rkqn-rCQpPt0"
      }
    },
    {
      "cell_type": "code",
      "source": [
        "x = (2,4,1,3,5,7,9)\n",
        "new_x = x[::-1]\n",
        "print(new_x)"
      ],
      "metadata": {
        "colab": {
          "base_uri": "https://localhost:8080/",
          "height": 0
        },
        "id": "BubSR19ppRxF",
        "outputId": "772fb040-a50f-423e-aa9a-30ac5d8a0864"
      },
      "execution_count": 59,
      "outputs": [
        {
          "output_type": "stream",
          "name": "stdout",
          "text": [
            "(9, 7, 5, 3, 1, 4, 2)\n"
          ]
        }
      ]
    },
    {
      "cell_type": "markdown",
      "source": [
        "Q5. Write a Python program to remove an empty tuple(s) from a list of tuples\n",
        "\n"
      ],
      "metadata": {
        "id": "qB9v9OSwpSCW"
      }
    },
    {
      "cell_type": "code",
      "source": [
        "tupx = [(), ('ram','15','8'), (), ('laxman', 'sita'), ('krishna', 'akbar', '45'), ('',''),()]\n",
        "new_tupx = [t for t in tupx if t]\n",
        "print(new_tupx)"
      ],
      "metadata": {
        "colab": {
          "base_uri": "https://localhost:8080/",
          "height": 0
        },
        "id": "dC6YJ2LhpTdQ",
        "outputId": "b6cbe7c4-7cce-4e05-d09d-0a6367c2ad80"
      },
      "execution_count": 63,
      "outputs": [
        {
          "output_type": "stream",
          "name": "stdout",
          "text": [
            "[('ram', '15', '8'), ('laxman', 'sita'), ('krishna', 'akbar', '45'), ('', '')]\n"
          ]
        }
      ]
    },
    {
      "cell_type": "markdown",
      "source": [
        "Q6. Write a Python program to replace middle value of tuples in a list.\n",
        "\n"
      ],
      "metadata": {
        "id": "J7t4JSzbpT3G"
      }
    },
    {
      "cell_type": "code",
      "source": [
        "l = [(10, 20, 40), (40, 50, 60), (70, 80, 90)]\n",
        "new = [t[:len(t)//2] + (100,) + t[len(t)//2+1:] for t in l]\n",
        "print(new)"
      ],
      "metadata": {
        "colab": {
          "base_uri": "https://localhost:8080/",
          "height": 0
        },
        "id": "-T_kMHGtpVyn",
        "outputId": "2cc7be7e-3773-4210-cecc-b5884819c235"
      },
      "execution_count": 25,
      "outputs": [
        {
          "output_type": "stream",
          "name": "stdout",
          "text": [
            "[(10, 100, 40), (40, 100, 60), (70, 100, 90)]\n"
          ]
        }
      ]
    },
    {
      "cell_type": "markdown",
      "source": [
        "Q7. Write a Python program to get the 5th element and 5th element from last of a tuple.\n",
        "\n"
      ],
      "metadata": {
        "id": "t3UC0u33pWG3"
      }
    },
    {
      "cell_type": "code",
      "source": [
        "x = (2,4,1,3,5,7,9)\n",
        "print(\"5th element: \", x[5])\n",
        "print(\"5th element from last: \", x[-5])"
      ],
      "metadata": {
        "colab": {
          "base_uri": "https://localhost:8080/",
          "height": 0
        },
        "id": "E8fEhI12pXmt",
        "outputId": "4f7de9ad-5b8d-4643-a231-2d9f940a817a"
      },
      "execution_count": 3,
      "outputs": [
        {
          "output_type": "stream",
          "name": "stdout",
          "text": [
            "5th element:  7\n",
            "5th element from last:  1\n"
          ]
        }
      ]
    },
    {
      "cell_type": "markdown",
      "source": [
        "Q8. Write a Python program to check if two given sets have no elements in common.\n",
        "\n"
      ],
      "metadata": {
        "id": "5EidXacQpX5r"
      }
    },
    {
      "cell_type": "code",
      "source": [
        "x = {1,2,3,4}\n",
        "y = {4,5,6,7}\n",
        "print(x.isdisjoint(y))"
      ],
      "metadata": {
        "colab": {
          "base_uri": "https://localhost:8080/",
          "height": 0
        },
        "id": "lJHnwdVspZmF",
        "outputId": "1d73a9e9-e947-42d9-d03c-34c609928b11"
      },
      "execution_count": 4,
      "outputs": [
        {
          "output_type": "stream",
          "name": "stdout",
          "text": [
            "False\n"
          ]
        }
      ]
    },
    {
      "cell_type": "markdown",
      "source": [
        "Q9. Write a Python program to check whether an element exists within a tuple.\n",
        "\n"
      ],
      "metadata": {
        "id": "FCLHO6qmpZ7W"
      }
    },
    {
      "cell_type": "code",
      "source": [
        "x = {1,2,3,4}\n",
        "ele = int(input(\"Enter the element: \"))\n",
        "for i in x:\n",
        "    if(i == ele):\n",
        "        print(\"Present\")\n",
        "print(\"Not Present\")"
      ],
      "metadata": {
        "colab": {
          "base_uri": "https://localhost:8080/",
          "height": 0
        },
        "id": "KSboDaOypb2B",
        "outputId": "ec0f2b5c-2c36-49cc-d9ab-a130026f0273"
      },
      "execution_count": 5,
      "outputs": [
        {
          "output_type": "stream",
          "name": "stdout",
          "text": [
            "Enter the element: 5\n",
            "Not Present\n"
          ]
        }
      ]
    },
    {
      "cell_type": "markdown",
      "source": [
        "Q10. Write a Python program to check if a given value is present in a set or not.\n",
        "\n"
      ],
      "metadata": {
        "id": "4Fq_McYrpcUB"
      }
    },
    {
      "cell_type": "code",
      "source": [
        "x = {1,2,3,4}\n",
        "ele = int(input(\"Enter the element: \"))\n",
        "print(ele in x)"
      ],
      "metadata": {
        "colab": {
          "base_uri": "https://localhost:8080/",
          "height": 0
        },
        "id": "PDR70NGppeCt",
        "outputId": "22ba2b43-8b21-4699-fd1a-f98b27dcbf27"
      },
      "execution_count": 13,
      "outputs": [
        {
          "output_type": "stream",
          "name": "stdout",
          "text": [
            "Enter the element: 4\n",
            "True\n"
          ]
        }
      ]
    },
    {
      "cell_type": "markdown",
      "source": [
        "Q11. Write a Python program to check if a given set is superset of itself and superset of another given set.\n",
        "\n"
      ],
      "metadata": {
        "id": "3Bh5lXzTpeYv"
      }
    },
    {
      "cell_type": "code",
      "source": [
        "x = {1,2,3,4}\n",
        "num2 =  {2, 4}\n",
        "print(\"Is the set a superset of itself: \", x.issuperset(x))\n",
        "print(\"is a superset of another set: \", x>num2)"
      ],
      "metadata": {
        "colab": {
          "base_uri": "https://localhost:8080/",
          "height": 0
        },
        "id": "ZpqvLvOXpgMs",
        "outputId": "d860adb2-4d45-42c3-d47b-822f014fb031"
      },
      "execution_count": 11,
      "outputs": [
        {
          "output_type": "stream",
          "name": "stdout",
          "text": [
            "Is the set a superset of itself:  True\n",
            "is a superset of another set:  True\n"
          ]
        }
      ]
    },
    {
      "cell_type": "markdown",
      "source": [
        "Q12. Write a Python program to create a union, intersection, difference, symmetric difference of sets.\n"
      ],
      "metadata": {
        "id": "9u851X1bpg53"
      }
    },
    {
      "cell_type": "code",
      "source": [
        "A = {0, 2, 4, 6, 8};\n",
        "B = {1, 2, 3, 4, 5};\n",
        "\n",
        "print(\"Union :\", A | B)\n",
        "print(\"Intersection :\", A & B)\n",
        "print(\"Difference :\", A - B)\n",
        "print(\"Symmetric difference :\", A ^ B)"
      ],
      "metadata": {
        "colab": {
          "base_uri": "https://localhost:8080/",
          "height": 0
        },
        "id": "FJL8z6Z_piO0",
        "outputId": "d9167216-e2ef-4af8-f55e-d47ef3dd5f5e"
      },
      "execution_count": 9,
      "outputs": [
        {
          "output_type": "stream",
          "name": "stdout",
          "text": [
            "Union : {0, 1, 2, 3, 4, 5, 6, 8}\n",
            "Intersection : {2, 4}\n",
            "Difference : {0, 8, 6}\n",
            "Symmetric difference : {0, 1, 3, 5, 6, 8}\n"
          ]
        }
      ]
    },
    {
      "cell_type": "markdown",
      "source": [
        "\n",
        "Q13. Write a Python program to remove the intersection of a 2nd set from the 1st set."
      ],
      "metadata": {
        "id": "30mcBpYbpigS"
      }
    },
    {
      "cell_type": "code",
      "source": [
        "sn1 = {1,2,3,4,5}\n",
        "sn2 = {4,5,6,7,8}\n",
        "sn1-=sn2\n",
        "print(\"sn1: \",sn1)\n",
        "print(\"sn2: \",sn2)"
      ],
      "metadata": {
        "colab": {
          "base_uri": "https://localhost:8080/",
          "height": 0
        },
        "id": "nSR0lGbpplHz",
        "outputId": "dbe45dc1-78b3-4954-cb6a-bae81edbdcbe"
      },
      "execution_count": 8,
      "outputs": [
        {
          "output_type": "stream",
          "name": "stdout",
          "text": [
            "sn1:  {1, 2, 3}\n",
            "sn2:  {4, 5, 6, 7, 8}\n"
          ]
        }
      ]
    },
    {
      "cell_type": "markdown",
      "source": [
        "## Dictionaries"
      ],
      "metadata": {
        "id": "eBaZFMSApl4v"
      }
    },
    {
      "cell_type": "markdown",
      "source": [
        "Q1. Write a Python program to multiply all the items in a dictionary. "
      ],
      "metadata": {
        "id": "jWgM2ipapp35"
      }
    },
    {
      "cell_type": "code",
      "source": [
        "d = {\n",
        "    'value1': 5,\n",
        "    'value2': 4,\n",
        "    'value3': 3,\n",
        "    'value4': 2,\n",
        "    'value5': 1,\n",
        "}\n",
        "answer = 1\n",
        "for i in d:\n",
        "    answer = answer*d[i]\n",
        "print(answer)"
      ],
      "metadata": {
        "colab": {
          "base_uri": "https://localhost:8080/",
          "height": 0
        },
        "id": "f44ajDBkpzxq",
        "outputId": "14e5fd57-c913-4e6e-ebbd-93945d8cbef6"
      },
      "execution_count": 23,
      "outputs": [
        {
          "output_type": "stream",
          "name": "stdout",
          "text": [
            "120\n"
          ]
        }
      ]
    },
    {
      "cell_type": "markdown",
      "source": [
        "Q2. Write a Python program to remove duplicates from Dictionary. "
      ],
      "metadata": {
        "id": "xXI8pSrvp0HK"
      }
    },
    {
      "cell_type": "code",
      "source": [
        "student_data = {'id1': \n",
        "   {'name': ['Sara'], \n",
        "    'class': ['V'], \n",
        "    'subject_integration': ['english, math, science']\n",
        "   },\n",
        " 'id2': \n",
        "  {'name': ['David'], \n",
        "    'class': ['V'], \n",
        "    'subject_integration': ['english, math, science']\n",
        "   },\n",
        " 'id3': \n",
        "    {'name': ['Sara'], \n",
        "    'class': ['V'], \n",
        "    'subject_integration': ['english, math, science']\n",
        "   },\n",
        " 'id4': \n",
        "   {'name': ['Surya'], \n",
        "    'class': ['V'], \n",
        "    'subject_integration': ['english, math, science']\n",
        "   },\n",
        "}\n",
        "\n",
        "result = {}\n",
        "\n",
        "for key,value in student_data.items():\n",
        "    if value not in result.values():\n",
        "        result[key] = value\n",
        "\n",
        "print(result)"
      ],
      "metadata": {
        "colab": {
          "base_uri": "https://localhost:8080/",
          "height": 0
        },
        "id": "4cww39qdp3AT",
        "outputId": "7281dec7-acaa-48eb-9cea-ab6b04a1a734"
      },
      "execution_count": 24,
      "outputs": [
        {
          "output_type": "stream",
          "name": "stdout",
          "text": [
            "{'id1': {'name': ['Sara'], 'class': ['V'], 'subject_integration': ['english, math, science']}, 'id2': {'name': ['David'], 'class': ['V'], 'subject_integration': ['english, math, science']}, 'id4': {'name': ['Surya'], 'class': ['V'], 'subject_integration': ['english, math, science']}}\n"
          ]
        }
      ]
    },
    {
      "cell_type": "markdown",
      "source": [
        "Q3. Write a Python program to combine two dictionary adding values for common keys. <br />dict1 = {'k1': 10, 'k2': 20, 'k3':30} dict2 = {'k1': 30, 'k2': 20, 'k4':40} <br /> Sample output: Counter({'k1': 40, 'k2': 40, 'k4': 40, 'k3': 30}) "
      ],
      "metadata": {
        "id": "dTMhIDnOp3RH"
      }
    },
    {
      "cell_type": "code",
      "source": [
        "from collections import Counter\n",
        "\n",
        "dict1 = {'a': 12, 'for': 25, 'c': 9}\n",
        "dict2 = {'Geeks': 100, 'geek': 200, 'for': 300}\n",
        "          \n",
        "Cdict = Counter(dict1) + Counter(dict2)\n",
        "print(Cdict)"
      ],
      "metadata": {
        "colab": {
          "base_uri": "https://localhost:8080/",
          "height": 0
        },
        "id": "Swkt1LU4qJO_",
        "outputId": "f57aaad0-687d-4fb9-d497-4a43d094b7b2"
      },
      "execution_count": 22,
      "outputs": [
        {
          "output_type": "stream",
          "name": "stdout",
          "text": [
            "Counter({'for': 325, 'geek': 200, 'Geeks': 100, 'a': 12, 'c': 9})\n"
          ]
        }
      ]
    },
    {
      "cell_type": "markdown",
      "source": [
        "Q4. Write a Python program to find the highest 3 values of corresponding keys in a dictionary. "
      ],
      "metadata": {
        "id": "cLnsdcAcqJox"
      }
    },
    {
      "cell_type": "code",
      "source": [
        "from collections import Counter\n",
        "my_dict = {'A': 67, 'B': 23, 'C': 45,\n",
        "           'D': 56, 'E': 12, 'F': 69}\n",
        " \n",
        "k = Counter(my_dict)\n",
        "high = k.most_common(3)\n",
        " \n",
        "print(\"Initial Dictionary:\")\n",
        "print(my_dict, \"\\n\")\n",
        "\n",
        "print(\"Dictionary with 3 highest values:\")\n",
        "print(\"Keys: Values\")\n",
        " \n",
        "for i in high:\n",
        "    print(i[0],\" :\",i[1],\" \")"
      ],
      "metadata": {
        "colab": {
          "base_uri": "https://localhost:8080/",
          "height": 0
        },
        "id": "zvkfwMNbqL49",
        "outputId": "5f2b639e-f98f-4847-f006-38926b5982ae"
      },
      "execution_count": 20,
      "outputs": [
        {
          "output_type": "stream",
          "name": "stdout",
          "text": [
            "Initial Dictionary:\n",
            "{'A': 67, 'B': 23, 'C': 45, 'D': 56, 'E': 12, 'F': 69} \n",
            "\n",
            "Dictionary with 3 highest values:\n",
            "Keys: Values\n",
            "F  : 69  \n",
            "A  : 67  \n",
            "D  : 56  \n"
          ]
        }
      ]
    },
    {
      "cell_type": "markdown",
      "source": [
        "Q5. Write a Python program to create a dictionary from a string.<br /> Note: Track the count of the letters from the string. <br />Sample string : 'amazon' <br />Expected output: {'a': 2, 'm': 1, 'z': t, 'o': 2, 'n': 1} "
      ],
      "metadata": {
        "id": "M9-BnRzwqMJq"
      }
    },
    {
      "cell_type": "code",
      "source": [
        "st = input(\"Enter a string: \")\n",
        "dic = {}  \n",
        "for ch in st:\n",
        "    if ch in dic: \n",
        "        dic[ch] += 1\n",
        "    else:\n",
        "        dic[ch] = 1  \n",
        "for key in dic:\n",
        "    print(key,':',dic[key])"
      ],
      "metadata": {
        "colab": {
          "base_uri": "https://localhost:8080/",
          "height": 0
        },
        "id": "fA2HnfMbqXKI",
        "outputId": "fd68902b-4836-4130-bb1b-f3103dada037"
      },
      "execution_count": 21,
      "outputs": [
        {
          "output_type": "stream",
          "name": "stdout",
          "text": [
            "Enter a string: amazon\n",
            "a : 2\n",
            "m : 1\n",
            "z : 1\n",
            "o : 1\n",
            "n : 1\n"
          ]
        }
      ]
    },
    {
      "cell_type": "markdown",
      "source": [
        "Q6. Write a Python program to print a dictionary line by line. "
      ],
      "metadata": {
        "id": "cl9doNXfqXhU"
      }
    },
    {
      "cell_type": "code",
      "source": [
        "students = {'Aex':{'class':'V', 'rolld_id':2}, 'Puja':{'class':'V', 'roll_id':3}}\n",
        "for a in students:\n",
        "    print(a)\n",
        "    for b in students[a]:\n",
        "        print (b,':',students[a][b])"
      ],
      "metadata": {
        "colab": {
          "base_uri": "https://localhost:8080/",
          "height": 0
        },
        "id": "ff5s5fsWqat5",
        "outputId": "95db370f-d413-4d78-8477-f0bbd8607431"
      },
      "execution_count": 19,
      "outputs": [
        {
          "output_type": "stream",
          "name": "stdout",
          "text": [
            "Aex\n",
            "class : V\n",
            "rolld_id : 2\n",
            "Puja\n",
            "class : V\n",
            "roll_id : 3\n"
          ]
        }
      ]
    },
    {
      "cell_type": "markdown",
      "source": [
        "Q7. Write a Python program to replace dictionary values with their average "
      ],
      "metadata": {
        "id": "rfuUhesVqbBV"
      }
    },
    {
      "cell_type": "code",
      "source": [
        "def sum_math_v_vi_average(list_of_dicts):\n",
        "    for d in list_of_dicts:\n",
        "        n1 = d.pop('V')\n",
        "        n2 = d.pop('VI')\n",
        "        d['V+VI'] = (n1 + n2)/2\n",
        "    return list_of_dicts \n",
        "student_details= [\n",
        "  {'id' : 1, 'subject' : 'math', 'V' : 70, 'VI' : 82},\n",
        "  {'id' : 2, 'subject' : 'math', 'V' : 73, 'VI' : 74},\n",
        "  {'id' : 3, 'subject' : 'math', 'V' : 75, 'VI' : 86}\n",
        "]\n",
        "print(sum_math_v_vi_average(student_details))"
      ],
      "metadata": {
        "colab": {
          "base_uri": "https://localhost:8080/",
          "height": 0
        },
        "id": "tv71y5i7qd4g",
        "outputId": "ffe62a32-377f-4eca-9b5d-a48ee81c9566"
      },
      "execution_count": 18,
      "outputs": [
        {
          "output_type": "stream",
          "name": "stdout",
          "text": [
            "[{'id': 1, 'subject': 'math', 'V+VI': 76.0}, {'id': 2, 'subject': 'math', 'V+VI': 73.5}, {'id': 3, 'subject': 'math', 'V+VI': 80.5}]\n"
          ]
        }
      ]
    },
    {
      "cell_type": "markdown",
      "source": [
        "Q8. Write a Python program to drop empty Items from a given Dictionary. <br />Original Dictionary:\n",
        "{'c1': 'CS, 'c2': 'IT', 'c3': None} <br />New Dictionary after dropping empty items: {'c1': 'CS', 'c2': 'IT'} "
      ],
      "metadata": {
        "id": "ICy44S0pqeIh"
      }
    },
    {
      "cell_type": "code",
      "source": [
        "dict2 = {'c1': 'CS', 'c2': 'IT', 'c3': None }\n",
        "dict2 = {key:value for (key, value) in dict2.items() if value is not None}\n",
        "print(dict2)"
      ],
      "metadata": {
        "colab": {
          "base_uri": "https://localhost:8080/",
          "height": 0
        },
        "id": "I5kDD_bJqobH",
        "outputId": "cabb3766-861e-4738-a69f-229bee137391"
      },
      "execution_count": 17,
      "outputs": [
        {
          "output_type": "stream",
          "name": "stdout",
          "text": [
            "{'c1': 'CS', 'c2': 'IT'}\n"
          ]
        }
      ]
    },
    {
      "cell_type": "markdown",
      "source": [
        "Q9. Write a Python program to filter the height and width of students, which are stored in a dictionary.<br /> Original Dictionary: {'Ram': (6.2, 70), 'Sita': (5.9, 65), 'Hari': (6.0, 68), 'Gopal': (5.8, 66)} Height > 6ft and Weight> 65kg: {'Ram': (6.2, 70)}"
      ],
      "metadata": {
        "id": "6qiviqwjqozx"
      }
    },
    {
      "cell_type": "code",
      "source": [
        "def filter_data(students):\n",
        "    result = dict(filter(lambda x: (x[1][0], x[1][1]) > (6.0, 65), students.items()))\n",
        "    return result \n",
        "\n",
        "dict1 = {'Ram': (6.2, 70), 'Sita': (5.9, 65), 'Hari': (6.0, 68), 'Gopal': (5.8, 66)}  \n",
        "print(filter_data(dict1))"
      ],
      "metadata": {
        "colab": {
          "base_uri": "https://localhost:8080/",
          "height": 0
        },
        "id": "r5DILcfsqxaU",
        "outputId": "7ea38721-827d-4b9c-8d72-33ea5168db4a"
      },
      "execution_count": 15,
      "outputs": [
        {
          "output_type": "stream",
          "name": "stdout",
          "text": [
            "{'Ram': (6.2, 70), 'Hari': (6.0, 68)}\n"
          ]
        }
      ]
    },
    {
      "cell_type": "code",
      "source": [
        ""
      ],
      "metadata": {
        "id": "srnInukR5pTs"
      },
      "execution_count": null,
      "outputs": []
    }
  ]
}