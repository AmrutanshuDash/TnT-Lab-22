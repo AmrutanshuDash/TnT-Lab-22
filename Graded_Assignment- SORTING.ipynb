{
  "nbformat": 4,
  "nbformat_minor": 0,
  "metadata": {
    "colab": {
      "name": "Graded Assignment",
      "provenance": []
    },
    "kernelspec": {
      "name": "python3",
      "display_name": "Python 3"
    },
    "language_info": {
      "name": "python"
    }
  },
  "cells": [
    {
      "cell_type": "markdown",
      "source": [
        "# Graded Assignment - SORTING\n",
        " "
      ],
      "metadata": {
        "id": "yLBQRlxTz5SJ"
      }
    },
    {
      "cell_type": "markdown",
      "source": [
        "IMPLEMENT THE FOLLOWING SORTING ALGORITHMS :\n",
        "A. SELECTION SORT\n",
        "B. INSERTION SORT\n",
        "C. BUBBLE SORT\n",
        "D. QUICK SORT\n",
        "E. MERGE SORT\n",
        "1. Your Task is to identify the best sorting algorithm for a particular dataset\n",
        "2. We consider dataset of 3 types a. Items already sorted b. Items reverse sorted, c random\n",
        "3. Task 1: Write a function to identify the which type your data belongs\n",
        "4. Task 2: Write the sorting functions , in a way that through a user input it can perform sorting in\n",
        "ascending or descending order. eg. Quick sort(L, 1) : sort L in ascending order Quicksort(L, -1) sort in\n",
        "descending order.\n",
        "5. Task 3: Support your answer through number of comparison and swapping it perform and\n",
        "calculating the time requirement T(n) = (No of Comparison + 3 X No of Swapping) * 10 ^ -6. This\n",
        "value must be returned from each sorting function.\n",
        "6. Check the proportionality of the of T(n) , w.r.t actual time consumed by your code. Can be done\n",
        "using time() library in python."
      ],
      "metadata": {
        "id": "quMOFybE0fAL"
      }
    },
    {
      "cell_type": "markdown",
      "source": [
        "### Selection Sort"
      ],
      "metadata": {
        "id": "P_sdNfgu0iBV"
      }
    },
    {
      "cell_type": "code",
      "execution_count": 64,
      "metadata": {
        "colab": {
          "base_uri": "https://localhost:8080/"
        },
        "id": "IJrYexiAz0Kr",
        "outputId": "02d9cbc0-4abb-4564-e246-cc9a067e4bad"
      },
      "outputs": [
        {
          "output_type": "stream",
          "name": "stdout",
          "text": [
            "Sorted Array using Selection Sort:  [78, 21, 9, -1, -12]\n",
            "T(n) {acc to calc}:  1.9e-05\n",
            "Actual time of func:  1.873970e-04\n"
          ]
        }
      ],
      "source": [
        "# Selection sort \n",
        "import time\n",
        "begin = time.time()\n",
        "def selectionSort(array, order):\n",
        "    size = len(array)\n",
        "    ss_comp, ss_swap = 0, 0;\n",
        "    for step in range(size):\n",
        "        min_idx = step\n",
        "\n",
        "        for i in range(step + 1, size):\n",
        "            # ordering\n",
        "            if(order==1):\n",
        "                if array[i] < array[min_idx]:\n",
        "                    min_idx = i\n",
        "                    ss_comp+=1\n",
        "            else:\n",
        "                if array[i] > array[min_idx]:\n",
        "                    min_idx = i\n",
        "                    ss_comp+=1\n",
        "        # swapping\n",
        "        (array[step], array[min_idx]) = (array[min_idx], array[step])\n",
        "        ss_swap+=1\n",
        "\n",
        "    return (ss_comp + 3*ss_swap) * (10 ** -6)\n",
        "end = time.time()\n",
        "\n",
        "rand_data = [-12, 78, 21, -1, 9]\n",
        "sort_data = [-9, -2, 0, 11, 45]\n",
        "revsort_data = [78, 21, 9, -1, -12]\n",
        "# order = int(input(\"Enter 1 for ascending and -1 for descending: \"))\n",
        "ss_timereq = selectionSort(rand_data, -1)\n",
        "print('Sorted Array using Selection Sort: ', rand_data)\n",
        "print('T(n) {acc to calc}: ',round(ss_timereq, 10))\n",
        "print('Actual time of func: ', \"{0:e}\".format(end - begin))"
      ]
    },
    {
      "cell_type": "markdown",
      "source": [
        "### Insertion Sort"
      ],
      "metadata": {
        "id": "gUsH-__J0uB0"
      }
    },
    {
      "cell_type": "code",
      "source": [
        "# Insertion sort \n",
        "import time\n",
        "begin = time.time()\n",
        "def insertionSort(array, order):\n",
        "    size = len(array)\n",
        "    is_comp, is_swap = 0, 0;\n",
        "    for step in range(1, size):\n",
        "        key = array[step]\n",
        "        j = step - 1\n",
        "  \n",
        "        # ordering\n",
        "        if(order==1):\n",
        "            while j >= 0 and key < array[j]:\n",
        "                is_comp+=1\n",
        "                array[j + 1] = array[j]\n",
        "                j = j - 1\n",
        "        else:\n",
        "            while j >= 0 and key > array[j]:\n",
        "                is_comp+=1\n",
        "                array[j + 1] = array[j]\n",
        "                j = j - 1\n",
        "\n",
        "        # insertion\n",
        "        array[j + 1] = key\n",
        "        is_swap+=1\n",
        "\n",
        "    return (is_comp + 3*is_swap) * (10 ** -6)\n",
        "end = time.time()\n",
        "\n",
        "rand_data = [-12, 78, 21, -1, 9]\n",
        "sort_data = [-12, -1, 9, 21, 78]\n",
        "revsort_data = [78, 21, 9, -1, -12]\n",
        "# order = int(input(\"Enter 1 for ascending and -1 for descending: \"))\n",
        "is_timereq = insertionSort(rand_data, 1)\n",
        "print('Sorted Array using Insertion Sort: ', rand_data)\n",
        "print('T(n) {acc to calc}: ',is_timereq)\n",
        "print('Actual time of func: ', \"{0:e}\".format(end - begin))"
      ],
      "metadata": {
        "colab": {
          "base_uri": "https://localhost:8080/"
        },
        "id": "ckbexpV19fSr",
        "outputId": "8e3a2002-d2fd-4fe6-b539-b9d0aabbce74"
      },
      "execution_count": 65,
      "outputs": [
        {
          "output_type": "stream",
          "name": "stdout",
          "text": [
            "Sorted Array using Insertion Sort:  [-12, -1, 9, 21, 78]\n",
            "T(n) {acc to calc}:  1.7e-05\n",
            "Actual time of func:  2.017021e-04\n"
          ]
        }
      ]
    },
    {
      "cell_type": "markdown",
      "source": [
        "### Bubble Sort"
      ],
      "metadata": {
        "id": "pF1M4dlf0yAp"
      }
    },
    {
      "cell_type": "code",
      "source": [
        "# Bubble sort \n",
        "import time\n",
        "begin = time.time()\n",
        "def bubbleSort(array, order):\n",
        "    bs_comp = 0\n",
        "    bs_swap = 0\n",
        "    size = len(array)\n",
        "    for i in range(size):\n",
        "        for j in range(0, size - i - 1):\n",
        "            # ordering \n",
        "            if(order == 1):\n",
        "                # swapping\n",
        "                if array[j] > array[j + 1]:\n",
        "                    bs_comp+=1\n",
        "                    temp = array[j]\n",
        "                    array[j] = array[j+1]\n",
        "                    array[j+1] = temp\n",
        "                    bs_swap+=1\n",
        "            else:\n",
        "                # swapping\n",
        "                if array[j] < array[j + 1]:\n",
        "                    bs_comp+=1\n",
        "                    temp = array[j]\n",
        "                    array[j] = array[j+1]\n",
        "                    array[j+1] = temp\n",
        "                    bs_swap+=1\n",
        "\n",
        "    return (bs_comp + 3*bs_swap) * (10 ** -6)\n",
        "end = time.time()\n",
        "\n",
        "rand_data = [-12, 78, 21, -1, 9]\n",
        "sort_data = [-12, -1, 9, 21, 78]\n",
        "revsort_data = [78, 21, 9, -1, -12]\n",
        "# order = int(input(\"Enter 1 for ascending and -1 for descending: \"))\n",
        "bs_timereq = bubbleSort(rand_data, -1)\n",
        "print('Sorted Array using Bubble Sort: ', rand_data)\n",
        "print('T(n) {acc to calc}: ',bs_timereq)\n",
        "print('Actual time of func: ', \"{0:e}\".format(end - begin))"
      ],
      "metadata": {
        "id": "F6BRJzC601gE",
        "colab": {
          "base_uri": "https://localhost:8080/"
        },
        "outputId": "ef0fa3b7-06a3-4e87-c949-9e71b058c5eb"
      },
      "execution_count": 68,
      "outputs": [
        {
          "output_type": "stream",
          "name": "stdout",
          "text": [
            "Sorted Array using Bubble Sort:  [78, 21, 9, -1, -12]\n",
            "T(n) {acc to calc}:  1.9999999999999998e-05\n",
            "Actual time of func:  1.990795e-04\n"
          ]
        }
      ]
    },
    {
      "cell_type": "markdown",
      "source": [
        "### Quick Sort"
      ],
      "metadata": {
        "id": "qO3H8LuG016F"
      }
    },
    {
      "cell_type": "code",
      "source": [
        "# Quick sort \n",
        "import time\n",
        "begin = time.time()\n",
        "qs_swap = 0\n",
        "qs_comp = 0\n",
        "# function to find the partition \n",
        "def partition(array, low, high):\n",
        "  pivot = array[high]\n",
        "  i = low - 1\n",
        "  for j in range(low, high):\n",
        "    if array[j] <= pivot:\n",
        "        i = i + 1\n",
        "        # swapping element at i with element at j\n",
        "        (array[i], array[j]) = (array[j], array[i])\n",
        "\n",
        "  # swap the pivot element with the greater element specified by i\n",
        "  (array[i + 1], array[high]) = (array[high], array[i + 1])\n",
        "  return i + 1\n",
        "\n",
        "# function to perform quicksort\n",
        "def quickSort(array, low, high):\n",
        "  if low < high:\n",
        "    # element smaller than pivot are on the left\n",
        "    # element greater than pivot are on the right\n",
        "    pi = partition(array, low, high)\n",
        "\n",
        "    # recursive call on the left of pivot\n",
        "    quickSort(array, low, pi - 1)\n",
        "\n",
        "    # recursive call on the right of pivot\n",
        "    quickSort(array, pi + 1, high)\n",
        "\n",
        "end = time.time()\n",
        "\n",
        "rand_data = [-12, 78, 21, -1, 9]\n",
        "sort_data = [-12, -1, 9, 21, 78]\n",
        "revsort_data = [78, 21, 9, -1, -12]\n",
        "# order = int(input(\"Enter 1 for ascending and -1 for descending: \"))\n",
        "size = len(rand_data)\n",
        "quickSort(rand_data, 0, size-1)\n",
        "qs_timereq = (qs_comp + 3*qs_swap) * (10 ** -6)\n",
        "print('Sorted Array using Quick Sort: ', rand_data)\n",
        "print('T(n) {acc to calc}: ',qs_timereq)\n",
        "print('Actual time of func: ', \"{0:e}\".format(end - begin))"
      ],
      "metadata": {
        "id": "oPLF9m_E031a",
        "colab": {
          "base_uri": "https://localhost:8080/"
        },
        "outputId": "a2eb7416-4877-4eb2-aca6-f756632eaf83"
      },
      "execution_count": 60,
      "outputs": [
        {
          "output_type": "stream",
          "name": "stdout",
          "text": [
            "Sorted Array using Bubble Sort:  [-12, -1, 9, 21, 78]\n",
            "T(n) {acc to calc}:  0.0\n",
            "Actual time of func:  2.033710e-04\n"
          ]
        }
      ]
    },
    {
      "cell_type": "markdown",
      "source": [
        "### Merge Sort\n"
      ],
      "metadata": {
        "id": "-8MFPqlB04NT"
      }
    },
    {
      "cell_type": "code",
      "source": [
        "# Merge sort \n",
        "import time\n",
        "begin = time.time()\n",
        "\n",
        "def mergeSort(array):\n",
        "    ms_swap = 0\n",
        "    ms_comp = 0\n",
        "    if len(array) > 1:\n",
        "        #  r is the point where the array is divided into two subarrays\n",
        "        r = len(array)//2\n",
        "        L = array[:r]\n",
        "        M = array[r:]\n",
        "\n",
        "        # Sort the two halves\n",
        "        mergeSort(L)\n",
        "        mergeSort(M)\n",
        "\n",
        "        i = j = k = 0\n",
        " \n",
        "        while i < len(L) and j < len(M):\n",
        "            if L[i] < M[j]:\n",
        "                ms_comp+=1\n",
        "                array[k] = L[i]\n",
        "                ms_swap+=1\n",
        "                i += 1\n",
        "            else:\n",
        "                array[k] = M[j]\n",
        "                ms_swap+=1\n",
        "                j += 1\n",
        "            k += 1\n",
        " \n",
        "        while i < len(L):\n",
        "            ms_comp+=1\n",
        "            array[k] = L[i]\n",
        "            ms_swap+=1\n",
        "            i += 1\n",
        "            k += 1\n",
        "\n",
        "        while j < len(M):\n",
        "            ms_comp+=1\n",
        "            array[k] = M[j]\n",
        "            ms_swap+=1\n",
        "            j += 1\n",
        "            k += 1\n",
        "\n",
        "    return (ms_comp + 3* ms_swap) * (10 ** -6)\n",
        "end = time.time()\n",
        "\n",
        "rand_data = [-12, 78, 21, -1, 9]\n",
        "sort_data = [-12, -1, 9, 21, 78]\n",
        "revsort_data = [78, 21, 9, -1, -12]\n",
        "# order = int(input(\"Enter 1 for ascending and -1 for descending: \"))\n",
        "ms_timereq = mergeSort(rand_data)\n",
        "print('Sorted Array using Merge Sort: ', rand_data)\n",
        "print('T(n) {acc to calc}: ', ms_timereq)\n",
        "print('Actual time of func: ', \"{0:e}\".format(end - begin))"
      ],
      "metadata": {
        "id": "qAm7a8gN06gV",
        "colab": {
          "base_uri": "https://localhost:8080/"
        },
        "outputId": "e31f313f-f68a-4e7a-caf7-acd807f1b6d6"
      },
      "execution_count": 63,
      "outputs": [
        {
          "output_type": "stream",
          "name": "stdout",
          "text": [
            "Sorted Array using Merge Sort:  [-12, -1, 9, 21, 78]\n",
            "T(n) {acc to calc}:  1.7e-05\n",
            "Actual time of func:  2.815723e-04\n"
          ]
        }
      ]
    }
  ]
}