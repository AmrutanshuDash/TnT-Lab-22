{
  "nbformat": 4,
  "nbformat_minor": 0,
  "metadata": {
    "colab": {
      "name": "LAB Assignment 1.ipynb",
      "provenance": [],
      "collapsed_sections": []
    },
    "kernelspec": {
      "name": "python3",
      "display_name": "Python 3"
    },
    "language_info": {
      "name": "python"
    }
  },
  "cells": [
    {
      "cell_type": "markdown",
      "source": [
        "# **LAB ASSIGNMENT 1** \n",
        "Submission Date : 2.2.22  \n",
        "By : Amrutanshu Dash        \n",
        "Roll No : 1905735\n",
        "\n",
        "\n",
        "\n",
        "---"
      ],
      "metadata": {
        "id": "a5EyV-ANp8GH"
      }
    },
    {
      "cell_type": "markdown",
      "source": [
        "Q1. Write a Python program(WAPP) to input any two integers, and provide a menu to the user to select any of the options as add, subtract, multiply, divide and display the result accordingly."
      ],
      "metadata": {
        "id": "RTp1uIO_sqM-"
      }
    },
    {
      "cell_type": "code",
      "execution_count": null,
      "metadata": {
        "id": "1lDKsGtVpT0_",
        "colab": {
          "base_uri": "https://localhost:8080/"
        },
        "outputId": "aee056dc-b001-4ea8-989a-2dd7aada5c74"
      },
      "outputs": [
        {
          "output_type": "stream",
          "name": "stdout",
          "text": [
            "Select operation.\n",
            "1.Add\n",
            "2.Subtract\n",
            "3.Multiply\n",
            "4.Divide\n",
            "Enter choice(1/2/3/4): 1\n",
            "Enter 1st number: 23\n",
            "Enter 2nd number: 33\n",
            "56\n"
          ]
        }
      ],
      "source": [
        "def add(x, y):\n",
        "    return x + y\n",
        "\n",
        "def subtract(x, y):\n",
        "    return x - y\n",
        "\n",
        "def multiply(x, y):\n",
        "    return x * y\n",
        "\n",
        "def divide(x, y):\n",
        "    return x / y\n",
        "\n",
        "print(\"Select operation.\")\n",
        "print(\"1.Add\")\n",
        "print(\"2.Subtract\")\n",
        "print(\"3.Multiply\")\n",
        "print(\"4.Divide\")\n",
        "\n",
        "\n",
        "choice = int(input(\"Enter choice(1/2/3/4): \"))\n",
        "\n",
        "num1 = int(input(\"Enter 1st number: \"))\n",
        "num2 = int(input(\"Enter 2nd number: \"))\n",
        "if(choice == 1):\n",
        "    print(\"Result is \",add(num1,num2))\n",
        "elif(choice == 2):\n",
        "    print(\"Result is \",subtract(num1,num2))\n",
        "elif(choice == 3):\n",
        "    print(\"Result is \",multiply(num1,num2))\n",
        "else:\n",
        "    print(\"Result is \",divide(num1,num2))"
      ]
    },
    {
      "cell_type": "markdown",
      "source": [
        "Q2. WAPP to check if a year is leap year or not."
      ],
      "metadata": {
        "id": "xx_Hb9JiuOyJ"
      }
    },
    {
      "cell_type": "code",
      "source": [
        "yr = int(input(\"Enter the year to check: \"))\n",
        "if (yr % 4 == 0):\n",
        "    print(f\"{yr} is a leap year.\")\n",
        "else:\n",
        "    print(f\"{yr} is not a leap year.\")"
      ],
      "metadata": {
        "colab": {
          "base_uri": "https://localhost:8080/"
        },
        "id": "h88JpfUMuS8v",
        "outputId": "1e347ffd-70fe-47ab-e89a-5a18161daafa"
      },
      "execution_count": null,
      "outputs": [
        {
          "output_type": "stream",
          "name": "stdout",
          "text": [
            "Enter the year to check: 2020\n",
            "2020 is a leap year.\n"
          ]
        }
      ]
    },
    {
      "cell_type": "markdown",
      "source": [
        "Q3. WAPP to convert temperature from centigrade to Fahrenheit scale."
      ],
      "metadata": {
        "id": "eKOwtSIHvb7f"
      }
    },
    {
      "cell_type": "code",
      "source": [
        "inCelsius = int(input(\"Enter temp in centigrade: \"))\n",
        "toFahrenheit = (inCelsius * 9/5) + 32\n",
        "print(toFahrenheit)"
      ],
      "metadata": {
        "colab": {
          "base_uri": "https://localhost:8080/"
        },
        "id": "EpWq8LM0vTVb",
        "outputId": "3282f7a1-25f7-464b-ec6f-2c7f0dfe13ec"
      },
      "execution_count": null,
      "outputs": [
        {
          "output_type": "stream",
          "name": "stdout",
          "text": [
            "Enter temp in centigrade: 0\n",
            "32.0\n"
          ]
        }
      ]
    },
    {
      "cell_type": "markdown",
      "source": [
        "Q4.  WAPP to add two times in hour, minute & second format entered through the keyboard."
      ],
      "metadata": {
        "id": "Zvc42GqUvefd"
      }
    },
    {
      "cell_type": "code",
      "source": [
        "print(\"Enter Time 1 :\")\n",
        "h1 = int(input(\"Hour : \"))\n",
        "m1 = int(input(\"Minute : \"))\n",
        "s1 = int(input(\"Second : \"))\n",
        "print(\"Enter Time 2 :\")\n",
        "h2 = int(input(\"Hour : \"))\n",
        "m2 = int(input(\"Minute : \"))\n",
        "s2 = int(input(\"Second : \"))\n",
        "h3 = h1+h2+(m1+m2+(s1+s2)//60)//60\n",
        "m3 = (m1+m2+(s1+s2)//60)%60\n",
        "s3 = (s1+s2)%60\n",
        "print(\"Time 1 :\",h1,\" Hour,\",m1,\" Minute and \",s1,\" Second\")\n",
        "print(\"Time 2 :\",h2,\" Hour,\",m2,\" Minute and \",s2,\" Second\")\n",
        "print(\"Total Time :\",h3,\" Hours &\",m3,\" Minutes &\",s3,\"Seconds\")"
      ],
      "metadata": {
        "colab": {
          "base_uri": "https://localhost:8080/"
        },
        "id": "oqr5mnJay0uC",
        "outputId": "c1bc793a-a551-4452-d243-dad3a8b7c5c8"
      },
      "execution_count": null,
      "outputs": [
        {
          "output_type": "stream",
          "name": "stdout",
          "text": [
            "Enter Time 1 :\n",
            "Hour : 2\n",
            "Minute : 1288\n",
            "Second : 86123\n",
            "Enter Time 2 :\n",
            "Hour : 4\n",
            "Minute : 12\n",
            "Second : 34\n",
            "Time 1 : 2  Hour, 1288  Minute and  86123  Second\n",
            "Time 2 : 4  Hour, 12  Minute and  34  Second\n",
            "Total Time  : 51  Hour & 35  Minute and  57 Second\n"
          ]
        }
      ]
    },
    {
      "cell_type": "markdown",
      "source": [
        "Q5. WAPP to check if the given number is Armstrong or not"
      ],
      "metadata": {
        "id": "ja_ka3kmvocS"
      }
    },
    {
      "cell_type": "code",
      "source": [
        "def cube(n):\n",
        "    return n*n*n\n",
        "\n",
        "def isArmstrong(n):\n",
        "    while(n>0):\n",
        "        sum =0\n",
        "        rem = n %10\n",
        "        sum += cube(rem)\n",
        "        n = n //10\n",
        "    if(sum == n):\n",
        "        return True\n",
        "    else:\n",
        "        return False\n",
        "\n",
        "num = int (input(\"Enter a number to check for armstrong\"))\n",
        "isArmstrong(num)\n",
        "if(isArmstrong):\n",
        "    print(f\"{num} is an Armstrong number\")\n",
        "else:\n",
        "    print(f\"{num} is not an Armstrong number\")"
      ],
      "metadata": {
        "id": "eP99QnQNvs1U",
        "colab": {
          "base_uri": "https://localhost:8080/",
          "height": 0
        },
        "outputId": "befce515-7d79-4a2f-b985-437b3fad0758"
      },
      "execution_count": 31,
      "outputs": [
        {
          "output_type": "stream",
          "name": "stdout",
          "text": [
            "Enter a number to check for armstrong153\n",
            "153 is an Armstrong number\n"
          ]
        }
      ]
    },
    {
      "cell_type": "markdown",
      "source": [
        "Q6. WAPP to find out the factors of a number."
      ],
      "metadata": {
        "id": "RhN4v1N8vtht"
      }
    },
    {
      "cell_type": "code",
      "source": [
        "def findFactors(num):\n",
        "    print(f\"The factors of {num} are: \")\n",
        "    for i in range(1, num+1):\n",
        "        if(num % i == 0):\n",
        "            print(i)\n",
        "\n",
        "num = int(input(\"Enter a number to find factors: \"))\n",
        "findFactors(num)"
      ],
      "metadata": {
        "id": "s8olmIOYvyIh",
        "colab": {
          "base_uri": "https://localhost:8080/",
          "height": 0
        },
        "outputId": "4cada27f-fe89-4a2c-d27d-e7e775d053eb"
      },
      "execution_count": 9,
      "outputs": [
        {
          "output_type": "stream",
          "name": "stdout",
          "text": [
            "The factors of 21 are: \n",
            "Enter a number to find factors: 12\n",
            "1\n",
            "2\n",
            "3\n",
            "4\n",
            "6\n",
            "12\n"
          ]
        }
      ]
    },
    {
      "cell_type": "markdown",
      "source": [
        "Q7. WAPP to print all even numbers between 100 to 200 using a loop."
      ],
      "metadata": {
        "id": "5dOkoBxEvygi"
      }
    },
    {
      "cell_type": "code",
      "source": [
        "for i in range(100, 200):\n",
        "    if(i % 2 == 0):\n",
        "        print(i)"
      ],
      "metadata": {
        "id": "UCveb-S1v2iU",
        "colab": {
          "base_uri": "https://localhost:8080/",
          "height": 0
        },
        "outputId": "ee84a001-5bec-4671-d093-63e163706021"
      },
      "execution_count": 32,
      "outputs": [
        {
          "output_type": "stream",
          "name": "stdout",
          "text": [
            "100\n",
            "102\n",
            "104\n",
            "106\n",
            "108\n",
            "110\n",
            "112\n",
            "114\n",
            "116\n",
            "118\n",
            "120\n",
            "122\n",
            "124\n",
            "126\n",
            "128\n",
            "130\n",
            "132\n",
            "134\n",
            "136\n",
            "138\n",
            "140\n",
            "142\n",
            "144\n",
            "146\n",
            "148\n",
            "150\n",
            "152\n",
            "154\n",
            "156\n",
            "158\n",
            "160\n",
            "162\n",
            "164\n",
            "166\n",
            "168\n",
            "170\n",
            "172\n",
            "174\n",
            "176\n",
            "178\n",
            "180\n",
            "182\n",
            "184\n",
            "186\n",
            "188\n",
            "190\n",
            "192\n",
            "194\n",
            "196\n",
            "198\n"
          ]
        }
      ]
    },
    {
      "cell_type": "markdown",
      "source": [
        "Q8. WAPP to find LCM of 2 numbers using a while loop."
      ],
      "metadata": {
        "id": "FidTGCipv26f"
      }
    },
    {
      "cell_type": "code",
      "source": [
        "num1 = int(input())\n",
        "num2 = int(input())\n",
        "if(num1 > num2 ): \n",
        "    max= num1\n",
        "else:\n",
        "    max= num2\n",
        "while(True):\n",
        "    if(max % num1 == 0 and max % num2 == 0):   \n",
        "        print(max)\n",
        "        break;\n",
        "    max= max+ 1"
      ],
      "metadata": {
        "id": "j4UH2FDNv6zZ",
        "colab": {
          "base_uri": "https://localhost:8080/",
          "height": 0
        },
        "outputId": "e69e9498-5833-4046-a43d-245e5e2188d1"
      },
      "execution_count": 33,
      "outputs": [
        {
          "output_type": "stream",
          "name": "stdout",
          "text": [
            "4\n",
            "2\n",
            "4\n"
          ]
        }
      ]
    },
    {
      "cell_type": "markdown",
      "source": [
        "Q9. WAPP to find out the distance between two coordinates (x1, y1) & (x2, y2)"
      ],
      "metadata": {
        "id": "NTGlQIF2v71P"
      }
    },
    {
      "cell_type": "code",
      "source": [
        "def distance(x1, y1, x2, y2):\n",
        "    return ((x2 - x1) ** 2 + (y2 - y1) ** 2) ** 0.5\n",
        "\n",
        "x1 = int(input(\"Enter x1: \"))\n",
        "y1 = int(input(\"Enter y1: \"))\n",
        "x2 = int(input(\"Enter x2: \"))\n",
        "y2 = int(input(\"Enter y2: \"))\n",
        "\n",
        "print(distance( x1,  y1,  x2,  y2))"
      ],
      "metadata": {
        "id": "X_AkJCJDwBu0",
        "colab": {
          "base_uri": "https://localhost:8080/",
          "height": 0
        },
        "outputId": "d520ee70-417f-40a8-b81d-f3a53c022231"
      },
      "execution_count": 34,
      "outputs": [
        {
          "output_type": "stream",
          "name": "stdout",
          "text": [
            "Enter x1: 2\n",
            "Enter y1: 4\n",
            "Enter x2: 1\n",
            "Enter y2: 3\n",
            "1.4142135623730951\n"
          ]
        }
      ]
    },
    {
      "cell_type": "markdown",
      "source": [
        "Q10. WAPP to find the multiplication table of any number using a for loop."
      ],
      "metadata": {
        "id": "QC3bvk3CwKjV"
      }
    },
    {
      "cell_type": "code",
      "source": [
        "number = int(input (\"Enter the number: \"))      \n",
        "count = 1    \n",
        "print (\"The Multiplication Table of: \", number)    \n",
        "while count <= 10:    \n",
        "    number = number * 1    \n",
        "    print(number, 'x', i, '=', number * count)    \n",
        "    count += 1   "
      ],
      "metadata": {
        "id": "WLhCacH2wOYB",
        "colab": {
          "base_uri": "https://localhost:8080/",
          "height": 0
        },
        "outputId": "d36f689f-ff50-423f-a9e4-3cd198b6e133"
      },
      "execution_count": 18,
      "outputs": [
        {
          "output_type": "stream",
          "name": "stdout",
          "text": [
            "Enter the number: 5\n",
            "The Multiplication Table of:  5\n",
            "5 x 199 = 5\n",
            "5 x 199 = 10\n",
            "5 x 199 = 15\n",
            "5 x 199 = 20\n",
            "5 x 199 = 25\n",
            "5 x 199 = 30\n",
            "5 x 199 = 35\n",
            "5 x 199 = 40\n",
            "5 x 199 = 45\n",
            "5 x 199 = 50\n"
          ]
        }
      ]
    },
    {
      "cell_type": "markdown",
      "source": [
        "Q11. WAPP to find Volume and Surface Area of Cylinder."
      ],
      "metadata": {
        "id": "-dDYDZEKU02-"
      }
    },
    {
      "cell_type": "code",
      "source": [
        "import math\n",
        "rad = int(input(\"Enter the radius of cylinder\"))\n",
        "ht = int(input(\"Enter the height  of cylinder\"))\n",
        "volume = math.pi * (rad ** 2) * ht\n",
        "surfaceArea = 2 * math.pi * rad * (rad + ht)\n",
        "\n",
        "print(f\"Volume of cylinder is {volume}\")\n",
        "print(f\"Surface Area of cylinder is {surfaceArea}\")"
      ],
      "metadata": {
        "colab": {
          "base_uri": "https://localhost:8080/",
          "height": 0
        },
        "id": "TP0Dy8-2U5jT",
        "outputId": "8e92eba3-8bb2-4221-8222-6e549242314a"
      },
      "execution_count": 20,
      "outputs": [
        {
          "output_type": "stream",
          "name": "stdout",
          "text": [
            "Enter the radius of cylinder5\n",
            "Enter the height  of cylinder4\n",
            "Volume of cylinder is 314.1592653589793\n",
            "Surface Area of cylinder is 282.7433388230814\n"
          ]
        }
      ]
    },
    {
      "cell_type": "markdown",
      "source": [
        "Q12. WAPP to find the roots of a quadratic equation ax2+bx+c=0. "
      ],
      "metadata": {
        "id": "yGChHOCwU51Q"
      }
    },
    {
      "cell_type": "code",
      "source": [
        "import math\n",
        "# Ex : ax2+bx+c=0\n",
        "a = int(input(\"Enter a: \"))\n",
        "b = int(input(\"Enter b: \"))\n",
        "c = int(input(\"Enter c: \"))\n",
        " \n",
        "def findRoots(a, b, c):\n",
        " \n",
        "    # If a is 0, then equation is\n",
        "    # not quadratic, but linear\n",
        "    if a == 0:\n",
        "        print(\"Invalid\")\n",
        "        return -1\n",
        "    d = b * b - 4 * a * c\n",
        "    sqrt_val = math.sqrt(abs(d))\n",
        " \n",
        "    if d > 0:\n",
        "        print(\"Roots are real and different \")\n",
        "        print((-b + sqrt_val)/(2 * a))\n",
        "        print((-b - sqrt_val)/(2 * a))\n",
        "    elif d == 0:\n",
        "        print(\"Roots are real and same\")\n",
        "        print(-b / (2*a))\n",
        "    else:  # d<0\n",
        "        print(\"Roots are complex\")\n",
        "        print(- b / (2*a), \" + i\", sqrt_val)\n",
        "        print(- b / (2*a), \" - i\", sqrt_val)\n",
        "\n",
        "findRoots (a,b,c)"
      ],
      "metadata": {
        "colab": {
          "base_uri": "https://localhost:8080/",
          "height": 0
        },
        "id": "qwWJrMQzU6Rq",
        "outputId": "1f91c02c-6ec9-4977-de4f-8c40868eee57"
      },
      "execution_count": 21,
      "outputs": [
        {
          "output_type": "stream",
          "name": "stdout",
          "text": [
            "Enter a: 5\n",
            "Enter b: 2\n",
            "Enter c: 4\n",
            "Roots are complex\n",
            "-0.2  + i 8.717797887081348\n",
            "-0.2  - i 8.717797887081348\n"
          ]
        }
      ]
    },
    {
      "cell_type": "markdown",
      "source": [
        "Q13. KIIT DU has following rules for grading system: http://coe.kiit.ac.in/examination-regulations.php#R1 WAPP to enter your marks and credit of course of any 5 courses of 2 semesters through keyboard print the corresponding grade. Calculate SGPA for each semester and overall CGPA."
      ],
      "metadata": {
        "id": "jAb3WMhlV6t8"
      }
    },
    {
      "cell_type": "code",
      "source": [
        "def getGrade(mark):\n",
        "    if mark >= 90:\n",
        "        return 10\n",
        "    elif 80 <= mark < 90:\n",
        "        return 9\n",
        "    elif 70 <= mark < 80:\n",
        "        return 8\n",
        "    elif 60 <= mark < 70:\n",
        "        return 7\n",
        "    elif 50 <= mark < 60:\n",
        "        return 6\n",
        "    elif 40 <= mark < 50:\n",
        "        return 5\n",
        "    else:\n",
        "        return 2\n",
        "\n",
        "def getSGPA(mark,cred):\n",
        "    sum = 0\n",
        "    tot = 0\n",
        "    for m,c in zip(mark,cred):\n",
        "        sum += getGrade(m)*c\n",
        "        tot += 10 * c\n",
        "    return sum / tot * 10\n",
        "\n",
        "def getCGPA():\n",
        "    sem1_mark = list(map(int,input('Enter marks (5 subjects) :').split()))\n",
        "    sem1_cred = list(map(int,input('Enter credit (5 subjects) :').split()))\n",
        "    sem1_sgpa = getSGPA(sem1_mark,sem1_cred)\n",
        "\n",
        "    sem2_mark = list(map(int,input('Enter marks (5 subjects) :').split()))\n",
        "    sem2_cred = list(map(int,input('Enter credit (5 subjects) :').split()))\n",
        "    sem2_sgpa = getSGPA(sem2_mark,sem2_cred)\n",
        "    \n",
        "    print((sem1_sgpa + sem2_sgpa) / 2)\n",
        "    \n",
        "\n",
        "sem1_mark = [80,80,80,80,75]\n",
        "sem1_cred = [3,4,4,4,5]\n",
        "sem1_sgpa = getSGPA(sem1_mark,sem1_cred)\n",
        "\n",
        "sem2_mark = [80,90,70,80,75]\n",
        "sem2_cred = [3,4,5,3,4]\n",
        "sem2_sgpa = getSGPA(sem2_mark,sem2_cred)\n",
        "\n",
        "print(f'{((sem1_sgpa + sem2_sgpa) / 2):.3}')"
      ],
      "metadata": {
        "colab": {
          "base_uri": "https://localhost:8080/",
          "height": 0
        },
        "id": "KHz5hiJJVl6y",
        "outputId": "d19c2592-6be3-4ec3-e33a-785d93a7806b"
      },
      "execution_count": 29,
      "outputs": [
        {
          "output_type": "stream",
          "name": "stdout",
          "text": [
            "8.74\n"
          ]
        }
      ]
    },
    {
      "cell_type": "markdown",
      "source": [
        "Q14. A student will not be allowed to sit an exam if his/her attendance is less than 70%. Take following input from user: \n",
        "● Number of classes held \n",
        "● Number of classes attended Print percentage of class attended and check if the student is allowed to sit in the exam or not."
      ],
      "metadata": {
        "id": "fURhy87iWALX"
      }
    },
    {
      "cell_type": "code",
      "source": [
        "no_of_classes = int(input(\"Enter total no of clases: \"))\n",
        "attended = int(input(\"Enter the no of classes attended: \"))\n",
        "attendance = (attended / no_of_classes) * 100\n",
        "print(attendance)\n",
        "if(attendance < 70):\n",
        "    print(\"Not allowed to appear the exam\")"
      ],
      "metadata": {
        "colab": {
          "base_uri": "https://localhost:8080/",
          "height": 0
        },
        "id": "wTSzKWsnWAjI",
        "outputId": "a4837f42-d7eb-409b-a0d6-dc6624d0d7d6"
      },
      "execution_count": 23,
      "outputs": [
        {
          "output_type": "stream",
          "name": "stdout",
          "text": [
            "Enter total no of clases: 40\n",
            "Enter the no of classes attended: 25\n",
            "62.5\n",
            "Not allowed to appear the exam\n"
          ]
        }
      ]
    },
    {
      "cell_type": "markdown",
      "source": [
        "Q15. High Radius Company decided to give a bonus of 10% to employees if his/her year of service is more than 5 years. \n",
        "● Enter salary and year of service from the keyboard and print the net bonus amount. \n",
        "● Determine oldest and youngest among 3 employees by taking input(from user) of their age."
      ],
      "metadata": {
        "id": "QsT3wtGYWJOi"
      }
    },
    {
      "cell_type": "code",
      "source": [
        "age1=int(input('enter age1: '))\n",
        "age2=int(input('enter age2: '))\n",
        "age3=int(input('enter age3: '))\n",
        "if age1>age2 and age1>age3:\n",
        "    print('age1 is oldest')\n",
        "elif age2>age1 and age2>age3:\n",
        "    print('age2 is oldest')\n",
        "else:\n",
        "    print('age3 is oldest')\n",
        "if age1<age2 and age1<age3:\n",
        "    print('age1 is youngest')\n",
        "elif age2<age1 and age2<age3:\n",
        "    print('age2 is youngest')\n",
        "else:\n",
        "     print('age3 is youngest')\n",
        "\n",
        "salary = int(input(\"Enter the salary: \"))\n",
        "yr_of_service = int(input(\"Enter the yrs of service: \"))\n",
        "if(yr_of_service > 5):\n",
        "    bonus=0.1*salary\n",
        "    print(bonus)\n",
        "else:\n",
        "    print(\"not eligible for bonus\")"
      ],
      "metadata": {
        "colab": {
          "base_uri": "https://localhost:8080/",
          "height": 0
        },
        "id": "mpeH_IvaWNOu",
        "outputId": "ec91d9f8-90c8-4da2-e034-22241b3d320e"
      },
      "execution_count": 30,
      "outputs": [
        {
          "output_type": "stream",
          "name": "stdout",
          "text": [
            "enter age1: 12\n",
            "enter age2: 10\n",
            "enter age3: 3\n",
            "age1 is oldest\n",
            "age3 is youngest\n",
            "Enter the salary: 12333\n",
            "Enter the yrs of service: 5\n",
            "not eligible for bonus\n"
          ]
        }
      ]
    },
    {
      "cell_type": "markdown",
      "source": [
        "Q16. WAPP to convert a quantity in meter entered through keyboard into its equivalent kilometre and meter as per the following format. Example. 2430 meter = 2 Km and 430 meter."
      ],
      "metadata": {
        "id": "3Or-y2hpWNuc"
      }
    },
    {
      "cell_type": "code",
      "source": [
        "meters = int(input(\"Enter in metres: \"))\n",
        "kilometer = meters // 1000\n",
        "meter = meters % 1000\n",
        "print(f\"{meters} meter = {kilometer} Km and {meter} meter\")"
      ],
      "metadata": {
        "colab": {
          "base_uri": "https://localhost:8080/",
          "height": 0
        },
        "id": "9JJZn1E5WOLq",
        "outputId": "e930778e-beb3-4fb5-bf48-f56e81d596ed"
      },
      "execution_count": 24,
      "outputs": [
        {
          "output_type": "stream",
          "name": "stdout",
          "text": [
            "Enter in metres: 2455\n",
            "2455 meter = 2 Km and 455 meter\n"
          ]
        }
      ]
    },
    {
      "cell_type": "markdown",
      "source": [
        "Q17. WAPP to print the sum of all prime numbers between 1 to n using a loop."
      ],
      "metadata": {
        "id": "PkEwQouJWOx3"
      }
    },
    {
      "cell_type": "code",
      "source": [
        "num = int(input(\"Find sum of prime numbers till: \"))\n",
        "sum = 0\n",
        "\n",
        "for num in range(2, num + 1):\n",
        "    i = 2\n",
        "    for i in range(2, num):\n",
        "        if (int(num % i) == 0):\n",
        "            i = num\n",
        "            break;\n",
        "    if i is not num:\n",
        "        sum += num\n",
        "\n",
        "print(\"\\nSum of all prime numbers upto\", num, \":\", sum)"
      ],
      "metadata": {
        "colab": {
          "base_uri": "https://localhost:8080/",
          "height": 0
        },
        "id": "dKeE9O7-WPRf",
        "outputId": "07cb772c-541f-4891-d0d0-d3ac695ad92f"
      },
      "execution_count": 25,
      "outputs": [
        {
          "output_type": "stream",
          "name": "stdout",
          "text": [
            "Find sum of prime numbers till: 20\n",
            "\n",
            "Sum of all prime numbers upto 20 : 75\n"
          ]
        }
      ]
    },
    {
      "cell_type": "markdown",
      "source": [
        "Q18. WAPP to display the reverse of a number entered through the keyboard."
      ],
      "metadata": {
        "id": "99D-Jq3aWRTZ"
      }
    },
    {
      "cell_type": "code",
      "source": [
        "num = int(input(\"Enter the number to reverse: \"))\n",
        "reversed_num = 0\n",
        "\n",
        "while num != 0:\n",
        "    digit = num % 10\n",
        "    reversed_num = reversed_num * 10 + digit\n",
        "    num //= 10\n",
        "\n",
        "print(\"Reversed Number: \" + str(reversed_num))"
      ],
      "metadata": {
        "colab": {
          "base_uri": "https://localhost:8080/",
          "height": 0
        },
        "id": "g4xY9KXDWTXB",
        "outputId": "00a078c9-d855-4892-cd0a-889561e99238"
      },
      "execution_count": 26,
      "outputs": [
        {
          "output_type": "stream",
          "name": "stdout",
          "text": [
            "Enter the number to reverse: 123\n",
            "Reversed Number: 321\n"
          ]
        }
      ]
    },
    {
      "cell_type": "markdown",
      "source": [
        "Q19. WAPP to convert a decimal number into its equivalent number with base b. Decimal number and b are the user input. "
      ],
      "metadata": {
        "id": "Krt1n2shWUIX"
      }
    },
    {
      "cell_type": "code",
      "source": [
        "inDec = int(input(\"Enter the decimal: \"))\n",
        "base = int(input(\"Enter the base: \"))\n",
        "if(base == 2):\n",
        "    print(f\"In binary: {bin(inDec)}\")\n",
        "elif(base == 8):\n",
        "    print(f\"In octal: {oct(inDec)}\")\n",
        "elif(base == 16):\n",
        "    print(f\"In hexadecimal: {hex(inDec)}\")"
      ],
      "metadata": {
        "colab": {
          "base_uri": "https://localhost:8080/",
          "height": 0
        },
        "id": "C_Lffq0JWUhk",
        "outputId": "dcb371df-bf60-44f9-87c5-5be364be4572"
      },
      "execution_count": 13,
      "outputs": [
        {
          "output_type": "stream",
          "name": "stdout",
          "text": [
            "Enter the decimal: 60\n",
            "Enter the base: 8\n",
            "In octal: 0o74\n"
          ]
        }
      ]
    },
    {
      "cell_type": "markdown",
      "source": [
        "Q20. WAPP to sum the following series S=1+(1+2)+(1+2+3)+...+(1+2+3+...+n)"
      ],
      "metadata": {
        "id": "4spuY9OMWVLM"
      }
    },
    {
      "cell_type": "code",
      "source": [
        "n = int(input(\"Enter value of n: \"))\n",
        "sum = 0\n",
        "for i in range(1, n+1):\n",
        "    s=0\n",
        "    for j in range(1, i+1):\n",
        "        s += j\n",
        "    sum += s\n",
        "\n",
        "print(sum)"
      ],
      "metadata": {
        "colab": {
          "base_uri": "https://localhost:8080/",
          "height": 0
        },
        "id": "SgkFnzjdWVtu",
        "outputId": "312284e1-143b-4e26-a1a7-0cb48e59eac6"
      },
      "execution_count": 9,
      "outputs": [
        {
          "output_type": "stream",
          "name": "stdout",
          "text": [
            "Enter value of n: 4\n",
            "20\n"
          ]
        }
      ]
    }
  ]
}