{
  "cells": [
    {
      "cell_type": "markdown",
      "source": [
        "# **LAB ASSIGNMENT 4** \n",
        "Submission Date : 16.3.22  \n",
        "By : Amrutanshu Dash        \n",
        "Roll No : 1905735\n",
        "\n",
        "\n",
        "\n",
        "---"
      ],
      "metadata": {
        "id": "zCWiHasgeab4"
      },
      "id": "zCWiHasgeab4"
    },
    {
      "cell_type": "markdown",
      "id": "a71e1c66-cf22-4f1c-9b49-3d5e85447e38",
      "metadata": {
        "id": "a71e1c66-cf22-4f1c-9b49-3d5e85447e38"
      },
      "source": [
        "# CLASS"
      ]
    },
    {
      "cell_type": "markdown",
      "id": "812b7ad1-fda0-4945-bab0-25b0fe95a77d",
      "metadata": {
        "id": "812b7ad1-fda0-4945-bab0-25b0fe95a77d"
      },
      "source": [
        "#### Ques 1 - WAP in python that uses a class to store the name and marks of the students. Use list to store the marks in three subjects."
      ]
    },
    {
      "cell_type": "code",
      "execution_count": null,
      "id": "1ccbcc66-3728-497c-bc1f-d721b7210ed0",
      "metadata": {
        "id": "1ccbcc66-3728-497c-bc1f-d721b7210ed0"
      },
      "outputs": [],
      "source": [
        "class Student:\n",
        "    def __init__(self,name,*marks):\n",
        "        self.name = name\n",
        "        self.marks = list(marks)\n",
        "    \n",
        "    def __str__(self):\n",
        "        return f'Name : {self.name} and marks in each subject : {self.marks}'\n",
        "\n",
        "std = Student('Debaditya',80,80,80)\n",
        "print(std)"
      ]
    },
    {
      "cell_type": "markdown",
      "id": "628cdba1-7398-4bb1-9444-08c0bb699d2a",
      "metadata": {
        "id": "628cdba1-7398-4bb1-9444-08c0bb699d2a"
      },
      "source": [
        "#### Ques 2 - WAP in python with class Employee that keeps a track of the number of employees in an organization and also stores their name, designation and salary details."
      ]
    },
    {
      "cell_type": "code",
      "execution_count": null,
      "id": "48691fa5-1e9f-47e7-a150-da83ba6edb1f",
      "metadata": {
        "id": "48691fa5-1e9f-47e7-a150-da83ba6edb1f"
      },
      "outputs": [],
      "source": [
        "class Employee:\n",
        "    cnt = 0\n",
        "    \n",
        "    def __init__(self,name,desg,salary):\n",
        "        self.name = name\n",
        "        self.desg = desg\n",
        "        self.salary = salary\n",
        "        Employee.cnt += 1\n",
        "    \n",
        "    def __str__(self):\n",
        "        return f'Name : {self.name} , Designation : {self.desg} , Salary : {self.salary}'\n",
        "    \n",
        "emp1 = Employee('Debaditya','SDE',9999999)\n",
        "emp2 = Employee('Rishi','SDE',99999999)\n",
        "print(emp1)\n",
        "print(emp2)\n",
        "print(Employee.cnt)"
      ]
    },
    {
      "cell_type": "markdown",
      "id": "1deac32e-9abe-4d80-8173-9d621b263aa6",
      "metadata": {
        "id": "1deac32e-9abe-4d80-8173-9d621b263aa6"
      },
      "source": [
        "#### Ques 3 - WAP in python that has a class Person storing name and date of birth of a person. The program should subtract the date of birth from today’s date to find out that the person is eligible to vote or not."
      ]
    },
    {
      "cell_type": "code",
      "execution_count": null,
      "id": "22643dbe-4180-4229-8752-544dc6920679",
      "metadata": {
        "id": "22643dbe-4180-4229-8752-544dc6920679"
      },
      "outputs": [],
      "source": [
        "from datetime import datetime\n",
        "\n",
        "class Person:\n",
        "    def __init__(self,name,date):\n",
        "        self.name = name\n",
        "        self.date = date\n",
        "    \n",
        "    def isEligble(self):\n",
        "        if self.getDOB() < 18:\n",
        "            return False\n",
        "        else:\n",
        "            return True\n",
        "    \n",
        "    def getDOB(self):\n",
        "        return (datetime.now()-self.date).total_seconds() / ( 365.35 * 24 * 60 * 60)\n",
        "\n",
        "person = Person('Debaditya',datetime(2001,9,11))\n",
        "print(person.isEligble())"
      ]
    },
    {
      "cell_type": "markdown",
      "id": "30f4a9a2-adb7-4056-95d3-48422654a2af",
      "metadata": {
        "id": "30f4a9a2-adb7-4056-95d3-48422654a2af"
      },
      "source": [
        "#### Ques 4 - WAP in python that has a class Circle. Use a class variable that defines the value of constant Pie value=3.14. Use this class variable to calculate the area and circumference of the circle with specified radius."
      ]
    },
    {
      "cell_type": "code",
      "execution_count": null,
      "id": "248e07c4-3e21-4576-856f-592d29a948ff",
      "metadata": {
        "id": "248e07c4-3e21-4576-856f-592d29a948ff"
      },
      "outputs": [],
      "source": [
        "class Circle:\n",
        "    pi = 3.14\n",
        "    \n",
        "    @classmethod\n",
        "    def getPerimeter(cls,radius):\n",
        "        return 2 * cls.pi * radius\n",
        "    \n",
        "    @classmethod\n",
        "    def getArea(cls,radius):\n",
        "        return cls.pi * (radius**2)\n",
        "\n",
        "print(Circle.getPerimeter(6))\n",
        "print(Circle.getArea(6))"
      ]
    },
    {
      "cell_type": "markdown",
      "id": "b1909c73-7398-49b8-a4c2-e001e8bc5c65",
      "metadata": {
        "id": "b1909c73-7398-49b8-a4c2-e001e8bc5c65"
      },
      "source": [
        "#### Ques 5 - WAP in python that has a class Student that stores the name ,roll no, marks(in three subjects). And display the information(name, roll no, total marks) stored about the students."
      ]
    },
    {
      "cell_type": "code",
      "execution_count": null,
      "id": "3eff33ad-993a-408d-babd-fa9d3e3003ef",
      "metadata": {
        "id": "3eff33ad-993a-408d-babd-fa9d3e3003ef"
      },
      "outputs": [],
      "source": [
        "class Student:\n",
        "    def __init__(self,name,roll,*marks):\n",
        "        self.name = name\n",
        "        self.roll = roll\n",
        "        self.marks = marks\n",
        "    \n",
        "    def __str__(self):\n",
        "        return f'Name : {self.name} , Rollno : {self.roll} , Marks in each subject : {self.marks}'\n",
        "\n",
        "std = Student('Debaditya',1905745,80,80,80)\n",
        "print(std)"
      ]
    },
    {
      "cell_type": "markdown",
      "id": "7037e521-5553-4360-b3ac-233376dfc9d8",
      "metadata": {
        "id": "7037e521-5553-4360-b3ac-233376dfc9d8"
      },
      "source": [
        "#### Ques - 6 WAP in python that has a class Rectangle with attribute length and breadth and a method area that returns the area of the circle."
      ]
    },
    {
      "cell_type": "code",
      "execution_count": null,
      "id": "84a2d769-c236-4e41-9130-185354dd0aa4",
      "metadata": {
        "id": "84a2d769-c236-4e41-9130-185354dd0aa4"
      },
      "outputs": [],
      "source": [
        "class Rectangle:\n",
        "    def __init__(self,length,breadth):\n",
        "        self.length = length\n",
        "        self.breadth = breadth\n",
        "    \n",
        "    def getArea(self):\n",
        "        return self.length * self.breadth\n",
        "    \n",
        "    @staticmethod\n",
        "    def getAreaofCircle(radius):\n",
        "        return 3.14 * (radius ** 2)\n",
        "    \n",
        "r = Rectangle(4,5)\n",
        "print(r.getArea())\n",
        "print(Rectangle.getAreaofCircle(6))"
      ]
    },
    {
      "cell_type": "markdown",
      "id": "30a3c615-96d6-488b-a5be-843fe6c57a3e",
      "metadata": {
        "id": "30a3c615-96d6-488b-a5be-843fe6c57a3e"
      },
      "source": [
        "#### Ques 7 - WAP in python that has a class Fraction with attributes numerator and denominator. Enter the values to the attributes and print the function in simplified forms."
      ]
    },
    {
      "cell_type": "code",
      "execution_count": null,
      "id": "602bad5e-d816-402b-a1ee-6be70edfd18e",
      "metadata": {
        "id": "602bad5e-d816-402b-a1ee-6be70edfd18e"
      },
      "outputs": [],
      "source": [
        "class Fraction:\n",
        "    def __init__(self,num,den):\n",
        "        self.num = num\n",
        "        self.den = den\n",
        "    \n",
        "    def printFraction(self):\n",
        "        print(self)\n",
        "    \n",
        "    def __str__(self):\n",
        "        return f'{self.num}/{self.den}'\n",
        "\n",
        "fraction = Fraction(2,3)\n",
        "fraction.printFraction()"
      ]
    },
    {
      "cell_type": "markdown",
      "id": "cec02ecb-abce-45df-8455-61e4740ef650",
      "metadata": {
        "id": "cec02ecb-abce-45df-8455-61e4740ef650"
      },
      "source": [
        "#### Ques 8 - WAP in python that has an abstract class Polygon. Derive two classes Rectangle and Triangle from polygon and write methods to get the details of their dimensions and hence calculate the area."
      ]
    },
    {
      "cell_type": "code",
      "execution_count": null,
      "id": "7917de71-7a4a-425d-8021-8db887a95533",
      "metadata": {
        "id": "7917de71-7a4a-425d-8021-8db887a95533"
      },
      "outputs": [],
      "source": [
        "from abc import ABC, abstractmethod\n",
        "\n",
        "class Polygon(ABC):\n",
        "    @abstractmethod\n",
        "    def printDetails(self):\n",
        "        pass\n",
        "    @abstractmethod\n",
        "    def printArea(self):\n",
        "        pass\n",
        "\n",
        "class Rectangle(Polygon):\n",
        "    def __init__(self,length,breadth):\n",
        "        self.shape = \"Rectangle\"\n",
        "        self.length = length\n",
        "        self.breadth = breadth\n",
        "        \n",
        "    def printDetails(self):\n",
        "        print(self.shape)\n",
        "    \n",
        "    def printArea(self):\n",
        "        print(self.length * self.breadth)\n",
        "    \n",
        "class Triangle(Polygon):\n",
        "    def __init__(self,height,base):\n",
        "        self.shape = \"Triangle\"\n",
        "        self.height = height\n",
        "        self.base = base\n",
        "        \n",
        "    def printDetails(self):\n",
        "        print(self.shape)\n",
        "    \n",
        "    def printArea(self):\n",
        "        print(0.5 * self.height * self.base)\n",
        "\n",
        "rec = Rectangle(10,20)\n",
        "rec.printDetails()\n",
        "rec.printArea()\n",
        "\n",
        "tri = Triangle(10,20)\n",
        "tri.printDetails()\n",
        "tri.printArea()"
      ]
    },
    {
      "cell_type": "markdown",
      "id": "e9a35434-daa5-440c-9733-8da106f1fe3a",
      "metadata": {
        "id": "e9a35434-daa5-440c-9733-8da106f1fe3a"
      },
      "source": [
        "#### Ques 9 - WAP in python with class Bill. The users have the option to pay the bill by card or by cash. Use the inheritance to model this situation."
      ]
    },
    {
      "cell_type": "code",
      "execution_count": null,
      "id": "413cf3ef-6279-47df-b253-2bc9b90da55d",
      "metadata": {
        "id": "413cf3ef-6279-47df-b253-2bc9b90da55d"
      },
      "outputs": [],
      "source": [
        "class Bill:\n",
        "    def __init__(self,amount,method):\n",
        "        self.amount = amount\n",
        "        self.method = method\n",
        "        \n",
        "    def __str__(self):\n",
        "        return f'Amount : {self.amount} , Method : {self.method}'\n",
        "\n",
        "class Cash(Bill):\n",
        "    def __init__(self,amount):\n",
        "        super().__init__(amount,'Cash')\n",
        "    \n",
        "class Card(Bill):\n",
        "    def __init__(self,amount):\n",
        "        super().__init__(amount,'Card')\n",
        "    \n",
        "c = Cash(1000)\n",
        "print(c)\n",
        "\n",
        "c = Card(1000)\n",
        "print(c)"
      ]
    },
    {
      "cell_type": "markdown",
      "id": "7e78d75a-3670-4887-bdde-fdb60734dd5b",
      "metadata": {
        "id": "7e78d75a-3670-4887-bdde-fdb60734dd5b"
      },
      "source": [
        "#### Ques 10 - WAP in python has a class Person. Inherit a class Faculty from person which also have class publications."
      ]
    },
    {
      "cell_type": "code",
      "execution_count": null,
      "id": "dc701c75-e33c-4353-95d8-4625cedb6cba",
      "metadata": {
        "id": "dc701c75-e33c-4353-95d8-4625cedb6cba"
      },
      "outputs": [],
      "source": [
        "class Person:\n",
        "    def __init__(self,name):\n",
        "        self.name = name\n",
        "        \n",
        "class Publications:\n",
        "    def __init__(self,count):\n",
        "        self.count = count\n",
        "        \n",
        "class Faculty(Person,Publications):\n",
        "    def __init__(self,name,count):\n",
        "        super().__init__(name)\n",
        "        super(Person,self).__init__(count)\n",
        "    \n",
        "    def __str__(self):\n",
        "        return f'{self.name} has {self.count} publications.'\n",
        "\n",
        "print('----- Method Resolution Order -----')\n",
        "for m in Faculty.mro():\n",
        "    print(m)\n",
        "print('-----------------------------------')\n",
        "\n",
        "faculty = Faculty('Debaditya Mallick',2)\n",
        "print(faculty)"
      ]
    },
    {
      "cell_type": "markdown",
      "id": "73e4b5ee-2b75-4dad-be80-c666e32f02af",
      "metadata": {
        "id": "73e4b5ee-2b75-4dad-be80-c666e32f02af"
      },
      "source": [
        "#### Ques 11 - Write a Python program that has a class Store that keeps a record of code and price of each product. Display a menu of all products to the user and prompt him to enter the quantity of each item required. Generate a bill and display the total amount."
      ]
    },
    {
      "cell_type": "code",
      "execution_count": null,
      "id": "82409547-56a3-4773-bb0e-1e6da7cea55a",
      "metadata": {
        "id": "82409547-56a3-4773-bb0e-1e6da7cea55a"
      },
      "outputs": [],
      "source": [
        "class Store:\n",
        "    products = {}\n",
        "    \n",
        "    @classmethod\n",
        "    def addProduct(cls,prod,cost):\n",
        "        cls.products[prod] = cost\n",
        "    \n",
        "    @staticmethod\n",
        "    def getTotal(**prods):\n",
        "        tot = 0\n",
        "        for prod,quan in prods.items():\n",
        "            tot += Store.products[prod] * quan\n",
        "        return tot\n",
        "    \n",
        "store = Store()\n",
        "store.addProduct('a',10)\n",
        "store.addProduct('b',20)\n",
        "store.addProduct('c',30)\n",
        "\n",
        "print(Store.getTotal(a=1,c=3))"
      ]
    },
    {
      "cell_type": "markdown",
      "id": "da273397-6028-45da-b8b4-18781f56c66d",
      "metadata": {
        "id": "da273397-6028-45da-b8b4-18781f56c66d"
      },
      "source": [
        "#### Ques 12 - Write a Python program that has a class Numbers with values stored in a list. Write a class method to find the largest value."
      ]
    },
    {
      "cell_type": "code",
      "execution_count": null,
      "id": "e40e0c4a-c782-477d-8467-7391ebd8c20c",
      "metadata": {
        "id": "e40e0c4a-c782-477d-8467-7391ebd8c20c"
      },
      "outputs": [],
      "source": [
        "class Numbers:\n",
        "    values = []\n",
        "    \n",
        "    @classmethod\n",
        "    def addValue(cls,val):\n",
        "        cls.values.append(val)\n",
        "    \n",
        "    @classmethod\n",
        "    def getMax(cls):\n",
        "        return max(cls.values)\n",
        "    \n",
        "Numbers.addValue(10)\n",
        "Numbers.addValue(20)\n",
        "Numbers.addValue(30)\n",
        "Numbers.addValue(50)\n",
        "Numbers.addValue(40)\n",
        "print(Numbers.getMax())"
      ]
    },
    {
      "cell_type": "markdown",
      "id": "e1c8e398-2060-475f-8fd6-25bb47fc1a8c",
      "metadata": {
        "id": "e1c8e398-2060-475f-8fd6-25bb47fc1a8c"
      },
      "source": [
        "#### Ques 13 -  Write a Python Program to create a class that stores a string and all its status details such as the number of uppercase characters, vowels and consonants, spaces etc."
      ]
    },
    {
      "cell_type": "code",
      "execution_count": null,
      "id": "bdfec0d2-be61-42e9-b18f-e9de54d9f46a",
      "metadata": {
        "id": "bdfec0d2-be61-42e9-b18f-e9de54d9f46a"
      },
      "outputs": [],
      "source": [
        "class String:\n",
        "    def __init__(self,s):\n",
        "        self.upper = 0\n",
        "        self.conso = 0\n",
        "        self.vowel = 0\n",
        "        self.space = 0\n",
        "        for i in s:\n",
        "            if 'A' <= i <= 'Z':\n",
        "                self.upper += 1\n",
        "            if i == ' ':\n",
        "                self.space += 1\n",
        "            elif i.lower() in ('a', 'e', 'i', 'o', 'u'):\n",
        "                self.vowel += 1\n",
        "            else:\n",
        "                self.conso += 1\n",
        "    \n",
        "    def __str__(self):\n",
        "        return f'Upper : {self.upper}, Space : {self.space}, Vowel : {self.vowel}, Consonants : {self.conso}'\n",
        "    \n",
        "s = String('Debaditya Mallick')\n",
        "print(s)"
      ]
    },
    {
      "cell_type": "markdown",
      "id": "a7b8f6d5-7d7f-4d12-82bf-46e0a9061939",
      "metadata": {
        "id": "a7b8f6d5-7d7f-4d12-82bf-46e0a9061939"
      },
      "source": [
        "#### Ques 14 - Write a Python Program using class and object to deposit or withdraw money in a bank account."
      ]
    },
    {
      "cell_type": "code",
      "execution_count": null,
      "id": "5ec8109b-bef9-412e-bf3d-ffe5d1709e33",
      "metadata": {
        "id": "5ec8109b-bef9-412e-bf3d-ffe5d1709e33"
      },
      "outputs": [],
      "source": [
        "class Account:\n",
        "    def __init__(self):\n",
        "        self.balance = 0\n",
        "        print('Account Created')\n",
        "    \n",
        "    def deposit(self,amount):\n",
        "        self.balance += amount\n",
        "        self.enquiry()\n",
        "    \n",
        "    def withdraw(self,amount):\n",
        "        if amount > self.balance:\n",
        "            print('Insufficient')\n",
        "        else:\n",
        "            self.balance -= amount\n",
        "            self.enquiry()\n",
        "    \n",
        "    def enquiry(self):\n",
        "        print('Current Balance :',self.balance)\n",
        "        \n",
        "x = Account()\n",
        "x.deposit(1000)\n",
        "x.withdraw(300)"
      ]
    },
    {
      "cell_type": "markdown",
      "id": "b653e15a-382b-4315-aaec-4b44cc9689a9",
      "metadata": {
        "id": "b653e15a-382b-4315-aaec-4b44cc9689a9"
      },
      "source": [
        "#### Ques 15 - Write a Program to print an index at which a particular value exists. If the value exists at multiple locations in the list, then prints all the indices. Also, count the number of times that value is repeated in the list."
      ]
    },
    {
      "cell_type": "code",
      "execution_count": null,
      "id": "4cf640f5-8a9e-442b-8713-d56fe365fc79",
      "metadata": {
        "id": "4cf640f5-8a9e-442b-8713-d56fe365fc79"
      },
      "outputs": [],
      "source": [
        "class Solution:\n",
        "    def printIndices(self,nums,x):\n",
        "        ans = []\n",
        "        for idx,num in enumerate(nums):\n",
        "            if num == x:\n",
        "                ans.append(idx)\n",
        "        print(f'Indices : {ans} and Count : {len(ans)}')\n",
        "\n",
        "s = Solution()\n",
        "nums = [1,9,0,5,7,4,5]\n",
        "s.printIndices(nums,5)"
      ]
    },
    {
      "cell_type": "markdown",
      "id": "58163f34-1e66-450f-8468-ae7d37751176",
      "metadata": {
        "id": "58163f34-1e66-450f-8468-ae7d37751176"
      },
      "source": [
        "#### Ques 16 - Write a program that forms a list of the first character of every word in another list."
      ]
    },
    {
      "cell_type": "code",
      "execution_count": null,
      "id": "81d5e5c3-29bc-4560-96b2-588051b1c3f2",
      "metadata": {
        "id": "81d5e5c3-29bc-4560-96b2-588051b1c3f2"
      },
      "outputs": [],
      "source": [
        "class Solution:\n",
        "    def printFirstChars(self,*words):\n",
        "        ans = []\n",
        "        for word in words:\n",
        "            ans.append(word[0])\n",
        "        print(ans)\n",
        "        \n",
        "s = Solution()\n",
        "s.printFirstChars('Debaditya','Mallick','CSE')"
      ]
    },
    {
      "cell_type": "markdown",
      "id": "27c0f7d3-d943-49c1-84c2-ddc459e47d3b",
      "metadata": {
        "id": "27c0f7d3-d943-49c1-84c2-ddc459e47d3b"
      },
      "source": [
        "#### Ques 17 - Write a Python program that reads a file line by line. Each line read from the file is copied to another file with line numbers specified at the beginning of the line."
      ]
    },
    {
      "cell_type": "code",
      "execution_count": null,
      "id": "b02f9551-77cc-45b0-b79f-dabafbf23989",
      "metadata": {
        "id": "b02f9551-77cc-45b0-b79f-dabafbf23989"
      },
      "outputs": [],
      "source": [
        "with open(\"test.txt\",\"r\") as file:\n",
        "    data = file.readlines()\n",
        "    for line in data:\n",
        "        print(line,end='')\n",
        "    print()\n",
        "    \n",
        "with open(\"copy.txt\",\"w\") as file:\n",
        "    file.write(str(len(data))+'\\n')\n",
        "    file.writelines(data)\n",
        "\n",
        "print('-------------------------')\n",
        "\n",
        "with open(\"copy.txt\",\"r\") as file:\n",
        "    data = file.readlines()\n",
        "    for line in data:\n",
        "        print(line,end='')\n",
        "    print()"
      ]
    },
    {
      "cell_type": "code",
      "execution_count": null,
      "id": "34208b1b-d435-47d1-b52b-705c1c53ef04",
      "metadata": {
        "id": "34208b1b-d435-47d1-b52b-705c1c53ef04"
      },
      "outputs": [],
      "source": [
        ""
      ]
    }
  ],
  "metadata": {
    "kernelspec": {
      "display_name": "Python 3 (ipykernel)",
      "language": "python",
      "name": "python3"
    },
    "language_info": {
      "codemirror_mode": {
        "name": "ipython",
        "version": 3
      },
      "file_extension": ".py",
      "mimetype": "text/x-python",
      "name": "python",
      "nbconvert_exporter": "python",
      "pygments_lexer": "ipython3",
      "version": "3.10.2"
    },
    "colab": {
      "name": "LAB Assignment - 4 1905735.ipynb",
      "provenance": []
    }
  },
  "nbformat": 4,
  "nbformat_minor": 5
}